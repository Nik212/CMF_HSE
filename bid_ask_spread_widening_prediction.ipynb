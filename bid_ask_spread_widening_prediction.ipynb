{
 "cells": [
  {
   "cell_type": "markdown",
   "metadata": {},
   "source": [
    "### Preface"
   ]
  },
  {
   "attachments": {
    "image.png": {
     "image/png": "[encoded data removed]"
    }
   },
   "cell_type": "markdown",
   "metadata": {},
   "source": [
    "В данной работе я тестирую несколько видов фичей: \n",
    "\n",
    "1) просто полученные из таблицы или модифакции данных из таблиц (взятие логарифма и тд)\n",
    "\n",
    "2) моментум в объеме\n",
    "\n",
    "3) исследование потоков объема из нижнего уровня бид/аск заявок в верхний\n",
    "\n",
    "Немного подробнее про 3 идею. Я формулирую следующую гипотезу:\n",
    "Допустим, что наблюдается большой объем заявок на покупку, таким образом, что объем ask0 будет явно меньше чем bid0 bid1 ... . Т.е., происходит давление спроса на предложение. Тогда, продавцам может быть выгодно переставить свои объемы на уровни выше (ask1, ask2, ask3, ask4), в надежде на то, что цена пойдет выше и они смогут продать по цене выше. Таким образом, гипотетически, спред может увеличиться (предполагается, в таком случае, что цена аска будет расти быстрее бида). Поэтому, мы можем ожидать переток объема из ask0/bid0 в ask[1:4]/bid[1:4] (в зависимости от того кто \"давит\")\n",
    "\n",
    "![image.png](attachment:image.png)\n",
    "\n",
    "\n",
    "\n",
    "\n",
    "Далее, я рассматриваю фичи, у которых найдется такая область определения, где вероятность P(1 | x) будет больше 10%."
   ]
  },
  {
   "source": [
    "Метрика качества (по заданию) roc_auc_score. Полученный результат ~ 0.9"
   ],
   "cell_type": "markdown",
   "metadata": {}
  },
  {
   "cell_type": "code",
   "execution_count": 1,
   "metadata": {},
   "outputs": [],
   "source": [
    "import pandas as pd\n",
    "from matplotlib import pyplot as plt\n",
    "import numpy as np\n",
    "from scipy.stats import skew\n",
    "import seaborn as sns\n",
    "\n",
    "import numpy as np                               # vectors and matrices\n",
    "import pandas as pd                              # tables and data manipulations\n",
    "import matplotlib.pyplot as plt                  # plots\n",
    "import seaborn as sns                            # more plots\n",
    "\n",
    "from dateutil.relativedelta import relativedelta # working with dates with style\n",
    "from scipy.optimize import minimize              # for function minimization\n",
    "\n",
    "import statsmodels.formula.api as smf            # statistics and econometrics\n",
    "import statsmodels.tsa.api as smt\n",
    "import statsmodels.api as sm\n",
    "import scipy.stats as scs\n",
    "\n",
    "from itertools import product                    # some useful functions\n",
    "from tqdm import tqdm_notebook\n",
    "\n",
    "\n",
    "\n",
    "%matplotlib inline"
   ]
  },
  {
   "cell_type": "code",
   "execution_count": 2,
   "metadata": {},
   "outputs": [],
   "source": [
    "train_data = pd.read_csv('train.csv')\n"
   ]
  },
  {
   "cell_type": "code",
   "execution_count": 3,
   "metadata": {},
   "outputs": [],
   "source": [
    "test_data = pd.read_csv('test.csv')\n"
   ]
  },
  {
   "cell_type": "code",
   "execution_count": 4,
   "metadata": {},
   "outputs": [
    {
     "data": {
      "text/html": [
       "<div>\n",
       "<style scoped>\n",
       "    .dataframe tbody tr th:only-of-type {\n",
       "        vertical-align: middle;\n",
       "    }\n",
       "\n",
       "    .dataframe tbody tr th {\n",
       "        vertical-align: top;\n",
       "    }\n",
       "\n",
       "    .dataframe thead th {\n",
       "        text-align: right;\n",
       "    }\n",
       "</style>\n",
       "<table border=\"1\" class=\"dataframe\">\n",
       "  <thead>\n",
       "    <tr style=\"text-align: right;\">\n",
       "      <th></th>\n",
       "      <th>VASK0</th>\n",
       "      <th>VASK1</th>\n",
       "      <th>VASK2</th>\n",
       "      <th>VASK3</th>\n",
       "      <th>VASK4</th>\n",
       "      <th>VBID0</th>\n",
       "      <th>VBID1</th>\n",
       "      <th>VBID2</th>\n",
       "      <th>VBID3</th>\n",
       "      <th>VBID4</th>\n",
       "      <th>...</th>\n",
       "      <th>VASK1_PREV</th>\n",
       "      <th>VASK2_PREV</th>\n",
       "      <th>VASK3_PREV</th>\n",
       "      <th>VASK4_PREV</th>\n",
       "      <th>VBID0_PREV</th>\n",
       "      <th>VBID1_PREV</th>\n",
       "      <th>VBID2_PREV</th>\n",
       "      <th>VBID3_PREV</th>\n",
       "      <th>VBID4_PREV</th>\n",
       "      <th>Y</th>\n",
       "    </tr>\n",
       "  </thead>\n",
       "  <tbody>\n",
       "    <tr>\n",
       "      <th>0</th>\n",
       "      <td>108</td>\n",
       "      <td>276</td>\n",
       "      <td>224</td>\n",
       "      <td>196</td>\n",
       "      <td>195</td>\n",
       "      <td>132</td>\n",
       "      <td>181</td>\n",
       "      <td>253</td>\n",
       "      <td>207</td>\n",
       "      <td>185</td>\n",
       "      <td>...</td>\n",
       "      <td>276</td>\n",
       "      <td>224</td>\n",
       "      <td>196</td>\n",
       "      <td>195</td>\n",
       "      <td>136</td>\n",
       "      <td>181</td>\n",
       "      <td>253</td>\n",
       "      <td>207</td>\n",
       "      <td>185</td>\n",
       "      <td>0</td>\n",
       "    </tr>\n",
       "    <tr>\n",
       "      <th>1</th>\n",
       "      <td>47</td>\n",
       "      <td>132</td>\n",
       "      <td>197</td>\n",
       "      <td>236</td>\n",
       "      <td>188</td>\n",
       "      <td>81</td>\n",
       "      <td>146</td>\n",
       "      <td>193</td>\n",
       "      <td>169</td>\n",
       "      <td>192</td>\n",
       "      <td>...</td>\n",
       "      <td>132</td>\n",
       "      <td>197</td>\n",
       "      <td>236</td>\n",
       "      <td>188</td>\n",
       "      <td>81</td>\n",
       "      <td>146</td>\n",
       "      <td>193</td>\n",
       "      <td>169</td>\n",
       "      <td>192</td>\n",
       "      <td>0</td>\n",
       "    </tr>\n",
       "    <tr>\n",
       "      <th>2</th>\n",
       "      <td>93</td>\n",
       "      <td>172</td>\n",
       "      <td>193</td>\n",
       "      <td>226</td>\n",
       "      <td>232</td>\n",
       "      <td>33</td>\n",
       "      <td>128</td>\n",
       "      <td>168</td>\n",
       "      <td>145</td>\n",
       "      <td>140</td>\n",
       "      <td>...</td>\n",
       "      <td>172</td>\n",
       "      <td>193</td>\n",
       "      <td>226</td>\n",
       "      <td>232</td>\n",
       "      <td>33</td>\n",
       "      <td>128</td>\n",
       "      <td>168</td>\n",
       "      <td>145</td>\n",
       "      <td>140</td>\n",
       "      <td>0</td>\n",
       "    </tr>\n",
       "    <tr>\n",
       "      <th>3</th>\n",
       "      <td>62</td>\n",
       "      <td>104</td>\n",
       "      <td>169</td>\n",
       "      <td>188</td>\n",
       "      <td>140</td>\n",
       "      <td>75</td>\n",
       "      <td>165</td>\n",
       "      <td>151</td>\n",
       "      <td>206</td>\n",
       "      <td>105</td>\n",
       "      <td>...</td>\n",
       "      <td>104</td>\n",
       "      <td>169</td>\n",
       "      <td>188</td>\n",
       "      <td>140</td>\n",
       "      <td>81</td>\n",
       "      <td>165</td>\n",
       "      <td>151</td>\n",
       "      <td>206</td>\n",
       "      <td>105</td>\n",
       "      <td>0</td>\n",
       "    </tr>\n",
       "    <tr>\n",
       "      <th>4</th>\n",
       "      <td>40</td>\n",
       "      <td>43</td>\n",
       "      <td>87</td>\n",
       "      <td>110</td>\n",
       "      <td>99</td>\n",
       "      <td>11</td>\n",
       "      <td>66</td>\n",
       "      <td>77</td>\n",
       "      <td>155</td>\n",
       "      <td>364</td>\n",
       "      <td>...</td>\n",
       "      <td>43</td>\n",
       "      <td>87</td>\n",
       "      <td>110</td>\n",
       "      <td>99</td>\n",
       "      <td>11</td>\n",
       "      <td>66</td>\n",
       "      <td>77</td>\n",
       "      <td>153</td>\n",
       "      <td>364</td>\n",
       "      <td>0</td>\n",
       "    </tr>\n",
       "    <tr>\n",
       "      <th>...</th>\n",
       "      <td>...</td>\n",
       "      <td>...</td>\n",
       "      <td>...</td>\n",
       "      <td>...</td>\n",
       "      <td>...</td>\n",
       "      <td>...</td>\n",
       "      <td>...</td>\n",
       "      <td>...</td>\n",
       "      <td>...</td>\n",
       "      <td>...</td>\n",
       "      <td>...</td>\n",
       "      <td>...</td>\n",
       "      <td>...</td>\n",
       "      <td>...</td>\n",
       "      <td>...</td>\n",
       "      <td>...</td>\n",
       "      <td>...</td>\n",
       "      <td>...</td>\n",
       "      <td>...</td>\n",
       "      <td>...</td>\n",
       "      <td>...</td>\n",
       "    </tr>\n",
       "    <tr>\n",
       "      <th>186585</th>\n",
       "      <td>82</td>\n",
       "      <td>170</td>\n",
       "      <td>163</td>\n",
       "      <td>162</td>\n",
       "      <td>160</td>\n",
       "      <td>20</td>\n",
       "      <td>121</td>\n",
       "      <td>143</td>\n",
       "      <td>152</td>\n",
       "      <td>93</td>\n",
       "      <td>...</td>\n",
       "      <td>170</td>\n",
       "      <td>163</td>\n",
       "      <td>162</td>\n",
       "      <td>160</td>\n",
       "      <td>18</td>\n",
       "      <td>121</td>\n",
       "      <td>143</td>\n",
       "      <td>152</td>\n",
       "      <td>93</td>\n",
       "      <td>0</td>\n",
       "    </tr>\n",
       "    <tr>\n",
       "      <th>186586</th>\n",
       "      <td>32</td>\n",
       "      <td>176</td>\n",
       "      <td>214</td>\n",
       "      <td>299</td>\n",
       "      <td>265</td>\n",
       "      <td>261</td>\n",
       "      <td>235</td>\n",
       "      <td>232</td>\n",
       "      <td>229</td>\n",
       "      <td>238</td>\n",
       "      <td>...</td>\n",
       "      <td>176</td>\n",
       "      <td>215</td>\n",
       "      <td>299</td>\n",
       "      <td>265</td>\n",
       "      <td>261</td>\n",
       "      <td>235</td>\n",
       "      <td>232</td>\n",
       "      <td>229</td>\n",
       "      <td>238</td>\n",
       "      <td>0</td>\n",
       "    </tr>\n",
       "    <tr>\n",
       "      <th>186587</th>\n",
       "      <td>95</td>\n",
       "      <td>226</td>\n",
       "      <td>159</td>\n",
       "      <td>203</td>\n",
       "      <td>137</td>\n",
       "      <td>54</td>\n",
       "      <td>143</td>\n",
       "      <td>155</td>\n",
       "      <td>133</td>\n",
       "      <td>194</td>\n",
       "      <td>...</td>\n",
       "      <td>226</td>\n",
       "      <td>159</td>\n",
       "      <td>203</td>\n",
       "      <td>137</td>\n",
       "      <td>53</td>\n",
       "      <td>143</td>\n",
       "      <td>155</td>\n",
       "      <td>133</td>\n",
       "      <td>194</td>\n",
       "      <td>0</td>\n",
       "    </tr>\n",
       "    <tr>\n",
       "      <th>186588</th>\n",
       "      <td>140</td>\n",
       "      <td>223</td>\n",
       "      <td>297</td>\n",
       "      <td>316</td>\n",
       "      <td>561</td>\n",
       "      <td>61</td>\n",
       "      <td>211</td>\n",
       "      <td>224</td>\n",
       "      <td>254</td>\n",
       "      <td>244</td>\n",
       "      <td>...</td>\n",
       "      <td>223</td>\n",
       "      <td>297</td>\n",
       "      <td>316</td>\n",
       "      <td>561</td>\n",
       "      <td>61</td>\n",
       "      <td>211</td>\n",
       "      <td>224</td>\n",
       "      <td>254</td>\n",
       "      <td>244</td>\n",
       "      <td>0</td>\n",
       "    </tr>\n",
       "    <tr>\n",
       "      <th>186589</th>\n",
       "      <td>123</td>\n",
       "      <td>147</td>\n",
       "      <td>158</td>\n",
       "      <td>148</td>\n",
       "      <td>133</td>\n",
       "      <td>63</td>\n",
       "      <td>139</td>\n",
       "      <td>194</td>\n",
       "      <td>399</td>\n",
       "      <td>210</td>\n",
       "      <td>...</td>\n",
       "      <td>147</td>\n",
       "      <td>158</td>\n",
       "      <td>148</td>\n",
       "      <td>133</td>\n",
       "      <td>63</td>\n",
       "      <td>138</td>\n",
       "      <td>194</td>\n",
       "      <td>399</td>\n",
       "      <td>210</td>\n",
       "      <td>0</td>\n",
       "    </tr>\n",
       "  </tbody>\n",
       "</table>\n",
       "<p>186590 rows × 21 columns</p>\n",
       "</div>"
      ],
      "text/plain": [
       "        VASK0  VASK1  VASK2  VASK3  VASK4  VBID0  VBID1  VBID2  VBID3  VBID4  \\\n",
       "0         108    276    224    196    195    132    181    253    207    185   \n",
       "1          47    132    197    236    188     81    146    193    169    192   \n",
       "2          93    172    193    226    232     33    128    168    145    140   \n",
       "3          62    104    169    188    140     75    165    151    206    105   \n",
       "4          40     43     87    110     99     11     66     77    155    364   \n",
       "...       ...    ...    ...    ...    ...    ...    ...    ...    ...    ...   \n",
       "186585     82    170    163    162    160     20    121    143    152     93   \n",
       "186586     32    176    214    299    265    261    235    232    229    238   \n",
       "186587     95    226    159    203    137     54    143    155    133    194   \n",
       "186588    140    223    297    316    561     61    211    224    254    244   \n",
       "186589    123    147    158    148    133     63    139    194    399    210   \n",
       "\n",
       "        ...  VASK1_PREV  VASK2_PREV  VASK3_PREV  VASK4_PREV  VBID0_PREV  \\\n",
       "0       ...         276         224         196         195         136   \n",
       "1       ...         132         197         236         188          81   \n",
       "2       ...         172         193         226         232          33   \n",
       "3       ...         104         169         188         140          81   \n",
       "4       ...          43          87         110          99          11   \n",
       "...     ...         ...         ...         ...         ...         ...   \n",
       "186585  ...         170         163         162         160          18   \n",
       "186586  ...         176         215         299         265         261   \n",
       "186587  ...         226         159         203         137          53   \n",
       "186588  ...         223         297         316         561          61   \n",
       "186589  ...         147         158         148         133          63   \n",
       "\n",
       "        VBID1_PREV  VBID2_PREV  VBID3_PREV  VBID4_PREV  Y  \n",
       "0              181         253         207         185  0  \n",
       "1              146         193         169         192  0  \n",
       "2              128         168         145         140  0  \n",
       "3              165         151         206         105  0  \n",
       "4               66          77         153         364  0  \n",
       "...            ...         ...         ...         ... ..  \n",
       "186585         121         143         152          93  0  \n",
       "186586         235         232         229         238  0  \n",
       "186587         143         155         133         194  0  \n",
       "186588         211         224         254         244  0  \n",
       "186589         138         194         399         210  0  \n",
       "\n",
       "[186590 rows x 21 columns]"
      ]
     },
     "execution_count": 4,
     "metadata": {},
     "output_type": "execute_result"
    }
   ],
   "source": [
    "data = train_data\n",
    "train_data"
   ]
  },
  {
   "cell_type": "code",
   "execution_count": 5,
   "metadata": {},
   "outputs": [],
   "source": [
    "def add_feature(feature, name):\n",
    "    train_data[name] = feature\n",
    "    print(train_data.columns)\n",
    "    \n",
    "def del_feature(name):\n",
    "    del train_data[name]\n",
    "    \n",
    "\n",
    "def plot_feature(name):\n",
    "    sns.lmplot(name, 'Y', train_data, 'Y', fit_reg=False)\n",
    "    fig = plt.gcf()\n",
    "    fig.set_size_inches(10, 7)\n",
    "    plt.show()\n",
    "    \n",
    "def plot_2(data1, data2):\n",
    "    fig, ax1 = plt.subplots()\n",
    "\n",
    "    color = 'tab:red'\n",
    "    ax1.set_xlabel('time (s)')\n",
    "    ax1.set_ylabel('1', color=color)\n",
    "    ax1.plot(data1, color=color)\n",
    "    ax1.tick_params(axis='y', labelcolor=color)\n",
    "\n",
    "    ax2 = ax1.twinx()  # instantiate a second axes that shares the same x-axis\n",
    "\n",
    "    color = 'tab:blue'\n",
    "    ax2.set_ylabel('0', color=color)  # we already handled the x-label with ax1\n",
    "    ax2.plot(data2, color=color)\n",
    "    ax2.tick_params(axis='y', labelcolor=color)\n",
    "\n",
    "    fig.tight_layout()  # otherwise the right y-label is slightly clipped\n",
    "    plt.show()"
   ]
  },
  {
   "cell_type": "code",
   "execution_count": 6,
   "metadata": {},
   "outputs": [
    {
     "data": {
      "text/plain": [
       "0    184676\n",
       "1      1914\n",
       "Name: Y, dtype: int64"
      ]
     },
     "execution_count": 6,
     "metadata": {},
     "output_type": "execute_result"
    }
   ],
   "source": [
    "train_data['Y'].value_counts()"
   ]
  },
  {
   "cell_type": "markdown",
   "metadata": {},
   "source": [
    "#### Табличные фичи"
   ]
  },
  {
   "cell_type": "code",
   "execution_count": 7,
   "metadata": {},
   "outputs": [
    {
     "name": "stdout",
     "output_type": "stream",
     "text": [
      "Index(['VASK0', 'VASK1', 'VASK2', 'VASK3', 'VASK4', 'VBID0', 'VBID1', 'VBID2',\n",
      "       'VBID3', 'VBID4', 'VASK0_PREV', 'VASK1_PREV', 'VASK2_PREV',\n",
      "       'VASK3_PREV', 'VASK4_PREV', 'VBID0_PREV', 'VBID1_PREV', 'VBID2_PREV',\n",
      "       'VBID3_PREV', 'VBID4_PREV', 'Y', 'logVASK0'],\n",
      "      dtype='object')\n"
     ]
    },
    {
     "data": {
      "image/png": "[encoded data removed]",
      "text/plain": [
       "<Figure size 720x504 with 1 Axes>"
      ]
     },
     "metadata": {
      "needs_background": "light"
     },
     "output_type": "display_data"
    }
   ],
   "source": [
    "add_feature(np.log(data['VASK0']), 'logVASK0')\n",
    "plot_feature('logVASK0');"
   ]
  },
  {
   "cell_type": "code",
   "execution_count": 8,
   "metadata": {},
   "outputs": [
    {
     "data": {
      "text/plain": [
       "0.13247049866768176"
      ]
     },
     "execution_count": 8,
     "metadata": {},
     "output_type": "execute_result"
    }
   ],
   "source": [
    "t = data[data['logVASK0'] < 1]['Y']\n",
    "sum(t)/len(t)"
   ]
  },
  {
   "cell_type": "code",
   "execution_count": 9,
   "metadata": {},
   "outputs": [
    {
     "name": "stdout",
     "output_type": "stream",
     "text": [
      "Index(['VASK0', 'VASK1', 'VASK2', 'VASK3', 'VASK4', 'VBID0', 'VBID1', 'VBID2',\n",
      "       'VBID3', 'VBID4', 'VASK0_PREV', 'VASK1_PREV', 'VASK2_PREV',\n",
      "       'VASK3_PREV', 'VASK4_PREV', 'VBID0_PREV', 'VBID1_PREV', 'VBID2_PREV',\n",
      "       'VBID3_PREV', 'VBID4_PREV', 'Y', 'logVASK0', 'logVBID0'],\n",
      "      dtype='object')\n"
     ]
    },
    {
     "data": {
      "image/png": "[encoded data removed]",
      "text/plain": [
       "<Figure size 720x504 with 1 Axes>"
      ]
     },
     "metadata": {
      "needs_background": "light"
     },
     "output_type": "display_data"
    }
   ],
   "source": [
    "add_feature(np.log(data['VBID0']), 'logVBID0')\n",
    "plot_feature('logVBID0')"
   ]
  },
  {
   "cell_type": "code",
   "execution_count": 10,
   "metadata": {},
   "outputs": [
    {
     "data": {
      "text/plain": [
       "0.12025316455696203"
      ]
     },
     "execution_count": 10,
     "metadata": {},
     "output_type": "execute_result"
    }
   ],
   "source": [
    "t = data[data['logVBID0'] < 1]['Y']\n",
    "sum(t)/len(t)"
   ]
  },
  {
   "cell_type": "code",
   "execution_count": 11,
   "metadata": {},
   "outputs": [
    {
     "name": "stdout",
     "output_type": "stream",
     "text": [
      "Index(['VASK0', 'VASK1', 'VASK2', 'VASK3', 'VASK4', 'VBID0', 'VBID1', 'VBID2',\n",
      "       'VBID3', 'VBID4', 'VASK0_PREV', 'VASK1_PREV', 'VASK2_PREV',\n",
      "       'VASK3_PREV', 'VASK4_PREV', 'VBID0_PREV', 'VBID1_PREV', 'VBID2_PREV',\n",
      "       'VBID3_PREV', 'VBID4_PREV', 'Y', 'logVASK0', 'logVBID0',\n",
      "       'logASK0/ASK0_PREV'],\n",
      "      dtype='object')\n"
     ]
    },
    {
     "data": {
      "image/png": "[encoded data removed]",
      "text/plain": [
       "<Figure size 720x504 with 1 Axes>"
      ]
     },
     "metadata": {
      "needs_background": "light"
     },
     "output_type": "display_data"
    }
   ],
   "source": [
    "add_feature(np.log(data['VASK0']/data['VASK0_PREV']), 'logASK0/ASK0_PREV')\n",
    "plot_feature('logASK0/ASK0_PREV');"
   ]
  },
  {
   "cell_type": "code",
   "execution_count": 12,
   "metadata": {},
   "outputs": [
    {
     "data": {
      "text/plain": [
       "0.5102040816326531"
      ]
     },
     "execution_count": 12,
     "metadata": {},
     "output_type": "execute_result"
    }
   ],
   "source": [
    "t = data[data['logASK0/ASK0_PREV'] < -2]['Y']\n",
    "sum(t)/len(t)"
   ]
  },
  {
   "cell_type": "code",
   "execution_count": 13,
   "metadata": {},
   "outputs": [],
   "source": [
    "#add_feature(np.log(data['VBID1']/data['VBID0_PREV']), 'logBID0/BID0_PREV')\n",
    "#plot_feature('logBID0/BID0_PREV')"
   ]
  },
  {
   "cell_type": "code",
   "execution_count": 14,
   "metadata": {},
   "outputs": [
    {
     "name": "stdout",
     "output_type": "stream",
     "text": [
      "Index(['VASK0', 'VASK1', 'VASK2', 'VASK3', 'VASK4', 'VBID0', 'VBID1', 'VBID2',\n",
      "       'VBID3', 'VBID4', 'VASK0_PREV', 'VASK1_PREV', 'VASK2_PREV',\n",
      "       'VASK3_PREV', 'VASK4_PREV', 'VBID0_PREV', 'VBID1_PREV', 'VBID2_PREV',\n",
      "       'VBID3_PREV', 'VBID4_PREV', 'Y', 'logVASK0', 'logVBID0',\n",
      "       'logASK0/ASK0_PREV', 'logBID0/BID0_PREV'],\n",
      "      dtype='object')\n"
     ]
    },
    {
     "data": {
      "image/png": "[encoded data removed]",
      "text/plain": [
       "<Figure size 720x504 with 1 Axes>"
      ]
     },
     "metadata": {
      "needs_background": "light"
     },
     "output_type": "display_data"
    }
   ],
   "source": [
    "add_feature(np.log(data['VBID0']/data['VBID0_PREV']), 'logBID0/BID0_PREV')\n",
    "plot_feature('logBID0/BID0_PREV')"
   ]
  },
  {
   "cell_type": "code",
   "execution_count": 15,
   "metadata": {},
   "outputs": [
    {
     "data": {
      "text/plain": [
       "0.30612244897959184"
      ]
     },
     "execution_count": 15,
     "metadata": {},
     "output_type": "execute_result"
    }
   ],
   "source": [
    "t = data[data['logBID0/BID0_PREV'] < -2]['Y']\n",
    "sum(t)/len(t)"
   ]
  },
  {
   "cell_type": "markdown",
   "metadata": {},
   "source": [
    "### Моментумы"
   ]
  },
  {
   "cell_type": "code",
   "execution_count": 16,
   "metadata": {},
   "outputs": [
    {
     "name": "stdout",
     "output_type": "stream",
     "text": [
      "Index(['VASK0', 'VASK1', 'VASK2', 'VASK3', 'VASK4', 'VBID0', 'VBID1', 'VBID2',\n",
      "       'VBID3', 'VBID4', 'VASK0_PREV', 'VASK1_PREV', 'VASK2_PREV',\n",
      "       'VASK3_PREV', 'VASK4_PREV', 'VBID0_PREV', 'VBID1_PREV', 'VBID2_PREV',\n",
      "       'VBID3_PREV', 'VBID4_PREV', 'Y', 'logVASK0', 'logVBID0',\n",
      "       'logASK0/ASK0_PREV', 'logBID0/BID0_PREV', 'mom0'],\n",
      "      dtype='object')\n"
     ]
    },
    {
     "data": {
      "image/png": "[encoded data removed]",
      "text/plain": [
       "<Figure size 720x504 with 1 Axes>"
      ]
     },
     "metadata": {
      "needs_background": "light"
     },
     "output_type": "display_data"
    }
   ],
   "source": [
    "add_feature(np.log(data['VASK0']/data['VASK0_PREV'])\n",
    "            -\n",
    "            np.log(data['VBID0']/data['VBID0_PREV'])\n",
    "            , 'mom0')\n",
    "plot_feature('mom0')"
   ]
  },
  {
   "cell_type": "code",
   "execution_count": 17,
   "metadata": {},
   "outputs": [
    {
     "data": {
      "text/plain": [
       "0.25"
      ]
     },
     "execution_count": 17,
     "metadata": {},
     "output_type": "execute_result"
    }
   ],
   "source": [
    "t = data[data['mom0'] < -2]['Y']\n",
    "sum(t)/len(t)"
   ]
  },
  {
   "cell_type": "code",
   "execution_count": 18,
   "metadata": {},
   "outputs": [
    {
     "name": "stdout",
     "output_type": "stream",
     "text": [
      "Index(['VASK0', 'VASK1', 'VASK2', 'VASK3', 'VASK4', 'VBID0', 'VBID1', 'VBID2',\n",
      "       'VBID3', 'VBID4', 'VASK0_PREV', 'VASK1_PREV', 'VASK2_PREV',\n",
      "       'VASK3_PREV', 'VASK4_PREV', 'VBID0_PREV', 'VBID1_PREV', 'VBID2_PREV',\n",
      "       'VBID3_PREV', 'VBID4_PREV', 'Y', 'logVASK0', 'logVBID0',\n",
      "       'logASK0/ASK0_PREV', 'logBID0/BID0_PREV', 'mom0', 'mom1'],\n",
      "      dtype='object')\n"
     ]
    },
    {
     "data": {
      "image/png": "[encoded data removed]",
      "text/plain": [
       "<Figure size 720x504 with 1 Axes>"
      ]
     },
     "metadata": {
      "needs_background": "light"
     },
     "output_type": "display_data"
    }
   ],
   "source": [
    "add_feature(np.log(data['VASK0']/data['VASK0_PREV']) * np.log(data['VASK1']/data['VASK0'])\n",
    "            -\n",
    "            np.log(data['VBID0']/data['VBID0_PREV']) * np.log(data['VBID1']/data['VBID0'])\n",
    "            , 'mom1')\n",
    "plot_feature('mom1')"
   ]
  },
  {
   "cell_type": "code",
   "execution_count": 19,
   "metadata": {},
   "outputs": [
    {
     "data": {
      "text/plain": [
       "0.4883720930232558"
      ]
     },
     "execution_count": 19,
     "metadata": {},
     "output_type": "execute_result"
    }
   ],
   "source": [
    "t = data[data['mom1'] < -10]['Y']\n",
    "sum(t)/len(t)"
   ]
  },
  {
   "cell_type": "code",
   "execution_count": null,
   "metadata": {},
   "outputs": [],
   "source": []
  },
  {
   "cell_type": "code",
   "execution_count": 20,
   "metadata": {},
   "outputs": [
    {
     "name": "stdout",
     "output_type": "stream",
     "text": [
      "Index(['VASK0', 'VASK1', 'VASK2', 'VASK3', 'VASK4', 'VBID0', 'VBID1', 'VBID2',\n",
      "       'VBID3', 'VBID4', 'VASK0_PREV', 'VASK1_PREV', 'VASK2_PREV',\n",
      "       'VASK3_PREV', 'VASK4_PREV', 'VBID0_PREV', 'VBID1_PREV', 'VBID2_PREV',\n",
      "       'VBID3_PREV', 'VBID4_PREV', 'Y', 'logVASK0', 'logVBID0',\n",
      "       'logASK0/ASK0_PREV', 'logBID0/BID0_PREV', 'mom0', 'mom1', 'mom2'],\n",
      "      dtype='object')\n"
     ]
    },
    {
     "data": {
      "image/png": "[encoded data removed]",
      "text/plain": [
       "<Figure size 720x504 with 1 Axes>"
      ]
     },
     "metadata": {
      "needs_background": "light"
     },
     "output_type": "display_data"
    }
   ],
   "source": [
    "add_feature(np.log(data['VASK0']/data['VASK0_PREV']) * np.log(data['VASK1']/data['VASK0'])*\n",
    "            np.log(data['VASK2']/data['VASK1'])*np.log(data['VASK3']/data['VASK2'])\n",
    "            -\n",
    "            np.log(data['VBID0']/data['VBID0_PREV']) * np.log(data['VBID1']/data['VBID0'])*\n",
    "            np.log(data['VBID2']/data['VBID1'])*np.log(data['VBID3']/data['VBID2'])\n",
    "            , 'mom2')\n",
    "plot_feature('mom2')"
   ]
  },
  {
   "cell_type": "code",
   "execution_count": 21,
   "metadata": {},
   "outputs": [
    {
     "data": {
      "text/plain": [
       "0.4"
      ]
     },
     "execution_count": 21,
     "metadata": {},
     "output_type": "execute_result"
    }
   ],
   "source": [
    "t = data[data['mom2'] > 4]['Y']\n",
    "sum(t)/len(t)"
   ]
  },
  {
   "cell_type": "code",
   "execution_count": 22,
   "metadata": {},
   "outputs": [
    {
     "name": "stdout",
     "output_type": "stream",
     "text": [
      "Index(['VASK0', 'VASK1', 'VASK2', 'VASK3', 'VASK4', 'VBID0', 'VBID1', 'VBID2',\n",
      "       'VBID3', 'VBID4', 'VASK0_PREV', 'VASK1_PREV', 'VASK2_PREV',\n",
      "       'VASK3_PREV', 'VASK4_PREV', 'VBID0_PREV', 'VBID1_PREV', 'VBID2_PREV',\n",
      "       'VBID3_PREV', 'VBID4_PREV', 'Y', 'logVASK0', 'logVBID0',\n",
      "       'logASK0/ASK0_PREV', 'logBID0/BID0_PREV', 'mom0', 'mom1', 'mom2',\n",
      "       'mom3'],\n",
      "      dtype='object')\n"
     ]
    },
    {
     "data": {
      "image/png": "[encoded data removed]",
      "text/plain": [
       "<Figure size 720x504 with 1 Axes>"
      ]
     },
     "metadata": {
      "needs_background": "light"
     },
     "output_type": "display_data"
    }
   ],
   "source": [
    "add_feature(np.log(data['VASK0']/data['VASK0_PREV']) * np.log(data['VASK1']/data['VASK0'])*\n",
    "            np.log(data['VASK2']/data['VASK1'])*np.log(data['VASK3']/data['VASK2'])*\n",
    "            np.log(data['VASK4']/data['VASK3'])\n",
    "            \n",
    "            -\n",
    "            \n",
    "            np.log(data['VBID0']/data['VBID0_PREV']) * np.log(data['VBID1']/data['VBID0'])*\n",
    "            np.log(data['VBID2']/data['VBID1'])*np.log(data['VBID3']/data['VBID2'])*np.log(data['VBID4']/data['VBID3'])\n",
    "            , 'mom3')\n",
    "plot_feature('mom3')"
   ]
  },
  {
   "cell_type": "code",
   "execution_count": 23,
   "metadata": {},
   "outputs": [
    {
     "data": {
      "text/html": [
       "<div>\n",
       "<style scoped>\n",
       "    .dataframe tbody tr th:only-of-type {\n",
       "        vertical-align: middle;\n",
       "    }\n",
       "\n",
       "    .dataframe tbody tr th {\n",
       "        vertical-align: top;\n",
       "    }\n",
       "\n",
       "    .dataframe thead th {\n",
       "        text-align: right;\n",
       "    }\n",
       "</style>\n",
       "<table border=\"1\" class=\"dataframe\">\n",
       "  <thead>\n",
       "    <tr style=\"text-align: right;\">\n",
       "      <th></th>\n",
       "      <th>mom0</th>\n",
       "      <th>mom1</th>\n",
       "      <th>mom2</th>\n",
       "      <th>mom3</th>\n",
       "    </tr>\n",
       "  </thead>\n",
       "  <tbody>\n",
       "    <tr>\n",
       "      <th>mom0</th>\n",
       "      <td>1.000000</td>\n",
       "      <td>0.936666</td>\n",
       "      <td>-0.119564</td>\n",
       "      <td>-0.092264</td>\n",
       "    </tr>\n",
       "    <tr>\n",
       "      <th>mom1</th>\n",
       "      <td>0.936666</td>\n",
       "      <td>1.000000</td>\n",
       "      <td>-0.136824</td>\n",
       "      <td>-0.082998</td>\n",
       "    </tr>\n",
       "    <tr>\n",
       "      <th>mom2</th>\n",
       "      <td>-0.119564</td>\n",
       "      <td>-0.136824</td>\n",
       "      <td>1.000000</td>\n",
       "      <td>-0.025919</td>\n",
       "    </tr>\n",
       "    <tr>\n",
       "      <th>mom3</th>\n",
       "      <td>-0.092264</td>\n",
       "      <td>-0.082998</td>\n",
       "      <td>-0.025919</td>\n",
       "      <td>1.000000</td>\n",
       "    </tr>\n",
       "  </tbody>\n",
       "</table>\n",
       "</div>"
      ],
      "text/plain": [
       "          mom0      mom1      mom2      mom3\n",
       "mom0  1.000000  0.936666 -0.119564 -0.092264\n",
       "mom1  0.936666  1.000000 -0.136824 -0.082998\n",
       "mom2 -0.119564 -0.136824  1.000000 -0.025919\n",
       "mom3 -0.092264 -0.082998 -0.025919  1.000000"
      ]
     },
     "execution_count": 23,
     "metadata": {},
     "output_type": "execute_result"
    }
   ],
   "source": [
    "data[['mom0', 'mom1', 'mom2', 'mom3']].corr()"
   ]
  },
  {
   "cell_type": "code",
   "execution_count": 24,
   "metadata": {},
   "outputs": [
    {
     "name": "stdout",
     "output_type": "stream",
     "text": [
      "Index(['VASK0', 'VASK1', 'VASK2', 'VASK3', 'VASK4', 'VBID0', 'VBID1', 'VBID2',\n",
      "       'VBID3', 'VBID4', 'VASK0_PREV', 'VASK1_PREV', 'VASK2_PREV',\n",
      "       'VASK3_PREV', 'VASK4_PREV', 'VBID0_PREV', 'VBID1_PREV', 'VBID2_PREV',\n",
      "       'VBID3_PREV', 'VBID4_PREV', 'Y', 'logVASK0', 'logVBID0',\n",
      "       'logASK0/ASK0_PREV', 'logBID0/BID0_PREV', 'mom0', 'mom1', 'mom2',\n",
      "       'mom3', 'std'],\n",
      "      dtype='object')\n"
     ]
    },
    {
     "data": {
      "image/png": "[encoded data removed]",
      "text/plain": [
       "<Figure size 720x504 with 1 Axes>"
      ]
     },
     "metadata": {
      "needs_background": "light"
     },
     "output_type": "display_data"
    }
   ],
   "source": [
    "add_feature(np.log(data['VASK0']/data['VASK0_PREV']).rolling(2).std()\n",
    "            - np.log(data['VBID0']/data['VBID0_PREV']).rolling(2).std(), 'std')\n",
    "plot_feature('std')"
   ]
  },
  {
   "cell_type": "code",
   "execution_count": 25,
   "metadata": {},
   "outputs": [
    {
     "data": {
      "text/plain": [
       "0.11075949367088607"
      ]
     },
     "execution_count": 25,
     "metadata": {},
     "output_type": "execute_result"
    }
   ],
   "source": [
    "t = data[data['std'] > 1.35]['Y']\n",
    "sum(t)/len(t)"
   ]
  },
  {
   "cell_type": "markdown",
   "metadata": {},
   "source": [
    "# Flows"
   ]
  },
  {
   "cell_type": "markdown",
   "metadata": {},
   "source": [
    "####### credit https://medium.com/@a.botsula/using-kalman-filters-to-derive-predictive-factors-from-limit-order-book-data-2242eef97d80"
   ]
  },
  {
   "cell_type": "code",
   "execution_count": 26,
   "metadata": {},
   "outputs": [],
   "source": [
    "fl0 = np.log(data['VASK0']) - np.log(data[['VASK1', 'VASK2', 'VASK3', 'VASK4']].sum(axis = 1))"
   ]
  },
  {
   "cell_type": "code",
   "execution_count": 27,
   "metadata": {},
   "outputs": [],
   "source": [
    "\n",
    "flbtw = (np.log(data[['VASK1', 'VASK2', 'VASK3', 'VASK4']]) - np.log((data[['VASK1_PREV', 'VASK2_PREV', 'VASK3_PREV', 'VASK4_PREV']]).shift(1))).fillna(0).sum(axis = 1)"
   ]
  },
  {
   "cell_type": "code",
   "execution_count": 28,
   "metadata": {},
   "outputs": [],
   "source": [
    "vol= np.log(data[['VASK1', 'VASK2', 'VASK3', 'VASK4']].sum(axis = 1))"
   ]
  },
  {
   "cell_type": "code",
   "execution_count": 29,
   "metadata": {},
   "outputs": [
    {
     "name": "stdout",
     "output_type": "stream",
     "text": [
      "Index(['VASK0', 'VASK1', 'VASK2', 'VASK3', 'VASK4', 'VBID0', 'VBID1', 'VBID2',\n",
      "       'VBID3', 'VBID4', 'VASK0_PREV', 'VASK1_PREV', 'VASK2_PREV',\n",
      "       'VASK3_PREV', 'VASK4_PREV', 'VBID0_PREV', 'VBID1_PREV', 'VBID2_PREV',\n",
      "       'VBID3_PREV', 'VBID4_PREV', 'Y', 'logVASK0', 'logVBID0',\n",
      "       'logASK0/ASK0_PREV', 'logBID0/BID0_PREV', 'mom0', 'mom1', 'mom2',\n",
      "       'mom3', 'std', 'ask_flow'],\n",
      "      dtype='object')\n"
     ]
    }
   ],
   "source": [
    "add_feature(vol + flbtw - fl0, 'ask_flow')"
   ]
  },
  {
   "cell_type": "code",
   "execution_count": 30,
   "metadata": {},
   "outputs": [],
   "source": [
    "fl0 = np.log(data['VBID0']) - np.log(data[['VBID1', 'VBID3', 'VBID4']].sum(axis = 1))"
   ]
  },
  {
   "cell_type": "code",
   "execution_count": 31,
   "metadata": {},
   "outputs": [],
   "source": [
    "flbt = (np.log(data[['VBID1', 'VBID2', 'VBID3', 'VBID4']]) - np.log((data[['VBID1_PREV', 'VBID2_PREV', 'VBID3_PREV', 'VBID4_PREV']]).shift(1))).fillna(0).sum(axis = 1)\n",
    "\n",
    "#(data[['VBID1', 'VBID3', 'VBID4']] - np.log(data[['VBID1_PREV', 'VBID3_PREV', 'VBID4_PREV']].shift(1)).fillna(0).sum(axis = 1)/"
   ]
  },
  {
   "cell_type": "code",
   "execution_count": 32,
   "metadata": {},
   "outputs": [],
   "source": [
    "vol= np.log(data[['VBID1', 'VBID2', 'VBID3', 'VBID4']].sum(axis = 1))"
   ]
  },
  {
   "cell_type": "code",
   "execution_count": 33,
   "metadata": {},
   "outputs": [
    {
     "name": "stdout",
     "output_type": "stream",
     "text": [
      "Index(['VASK0', 'VASK1', 'VASK2', 'VASK3', 'VASK4', 'VBID0', 'VBID1', 'VBID2',\n",
      "       'VBID3', 'VBID4', 'VASK0_PREV', 'VASK1_PREV', 'VASK2_PREV',\n",
      "       'VASK3_PREV', 'VASK4_PREV', 'VBID0_PREV', 'VBID1_PREV', 'VBID2_PREV',\n",
      "       'VBID3_PREV', 'VBID4_PREV', 'Y', 'logVASK0', 'logVBID0',\n",
      "       'logASK0/ASK0_PREV', 'logBID0/BID0_PREV', 'mom0', 'mom1', 'mom2',\n",
      "       'mom3', 'std', 'ask_flow', 'bid_flow'],\n",
      "      dtype='object')\n"
     ]
    }
   ],
   "source": [
    "add_feature(vol + flbt - fl0, 'bid_flow')"
   ]
  },
  {
   "cell_type": "code",
   "execution_count": 34,
   "metadata": {},
   "outputs": [
    {
     "data": {
      "image/png": "[encoded data removed]",
      "text/plain": [
       "<Figure size 720x504 with 1 Axes>"
      ]
     },
     "metadata": {
      "needs_background": "light"
     },
     "output_type": "display_data"
    }
   ],
   "source": [
    "plot_feature('ask_flow')"
   ]
  },
  {
   "cell_type": "code",
   "execution_count": 35,
   "metadata": {},
   "outputs": [
    {
     "data": {
      "image/png": "[encoded data removed]",
      "text/plain": [
       "<Figure size 720x504 with 1 Axes>"
      ]
     },
     "metadata": {
      "needs_background": "light"
     },
     "output_type": "display_data"
    }
   ],
   "source": [
    "plot_feature('ask_flow')"
   ]
  },
  {
   "cell_type": "code",
   "execution_count": 36,
   "metadata": {},
   "outputs": [
    {
     "data": {
      "text/plain": [
       "0.007827788649706457"
      ]
     },
     "execution_count": 36,
     "metadata": {},
     "output_type": "execute_result"
    }
   ],
   "source": [
    "t = data[data['ask_flow'] < 7.3]['Y']\n",
    "sum(t)/len(t)"
   ]
  },
  {
   "cell_type": "code",
   "execution_count": 37,
   "metadata": {},
   "outputs": [
    {
     "data": {
      "text/plain": [
       "0.13858424725822532"
      ]
     },
     "execution_count": 37,
     "metadata": {},
     "output_type": "execute_result"
    }
   ],
   "source": [
    "t = data[data['ask_flow'] > 13]['Y']\n",
    "sum(t)/len(t)"
   ]
  },
  {
   "cell_type": "code",
   "execution_count": 38,
   "metadata": {},
   "outputs": [
    {
     "data": {
      "image/png": "[encoded data removed]",
      "text/plain": [
       "<Figure size 720x504 with 1 Axes>"
      ]
     },
     "metadata": {
      "needs_background": "light"
     },
     "output_type": "display_data"
    }
   ],
   "source": [
    "plot_feature('bid_flow')"
   ]
  },
  {
   "cell_type": "code",
   "execution_count": 39,
   "metadata": {},
   "outputs": [
    {
     "name": "stdout",
     "output_type": "stream",
     "text": [
      "Index(['VASK0', 'VASK1', 'VASK2', 'VASK3', 'VASK4', 'VBID0', 'VBID1', 'VBID2',\n",
      "       'VBID3', 'VBID4', 'VASK0_PREV', 'VASK1_PREV', 'VASK2_PREV',\n",
      "       'VASK3_PREV', 'VASK4_PREV', 'VBID0_PREV', 'VBID1_PREV', 'VBID2_PREV',\n",
      "       'VBID3_PREV', 'VBID4_PREV', 'Y', 'logVASK0', 'logVBID0',\n",
      "       'logASK0/ASK0_PREV', 'logBID0/BID0_PREV', 'mom0', 'mom1', 'mom2',\n",
      "       'mom3', 'std', 'ask_flow', 'bid_flow', 'bid_ask_flow'],\n",
      "      dtype='object')\n"
     ]
    }
   ],
   "source": [
    "add_feature(data['bid_flow']/data['ask_flow'], 'bid_ask_flow')"
   ]
  },
  {
   "cell_type": "code",
   "execution_count": 40,
   "metadata": {},
   "outputs": [],
   "source": [
    "#add_feature(abs(data['bid_flow'] - data['ask_flow'])/(data['bid_flow']  + data['ask_flow']), 'bid_ask_flow')"
   ]
  },
  {
   "cell_type": "code",
   "execution_count": 41,
   "metadata": {},
   "outputs": [
    {
     "data": {
      "image/png": "[encoded data removed]",
      "text/plain": [
       "<Figure size 720x504 with 1 Axes>"
      ]
     },
     "metadata": {
      "needs_background": "light"
     },
     "output_type": "display_data"
    }
   ],
   "source": [
    "plot_feature('bid_ask_flow')"
   ]
  },
  {
   "cell_type": "code",
   "execution_count": 42,
   "metadata": {},
   "outputs": [
    {
     "data": {
      "text/plain": [
       "0.10256410256410256"
      ]
     },
     "execution_count": 42,
     "metadata": {},
     "output_type": "execute_result"
    }
   ],
   "source": [
    "t = data[data['bid_ask_flow'] < 0.55]['Y']\n",
    "sum(t)/len(t)"
   ]
  },
  {
   "cell_type": "code",
   "execution_count": 43,
   "metadata": {},
   "outputs": [
    {
     "data": {
      "text/plain": [
       "0.11366384522370013"
      ]
     },
     "execution_count": 43,
     "metadata": {},
     "output_type": "execute_result"
    }
   ],
   "source": [
    "t = data[data['bid_ask_flow'] > 1.5]['Y']\n",
    "sum(t)/len(t)"
   ]
  },
  {
   "cell_type": "code",
   "execution_count": 44,
   "metadata": {},
   "outputs": [
    {
     "data": {
      "text/html": [
       "<div>\n",
       "<style scoped>\n",
       "    .dataframe tbody tr th:only-of-type {\n",
       "        vertical-align: middle;\n",
       "    }\n",
       "\n",
       "    .dataframe tbody tr th {\n",
       "        vertical-align: top;\n",
       "    }\n",
       "\n",
       "    .dataframe thead th {\n",
       "        text-align: right;\n",
       "    }\n",
       "</style>\n",
       "<table border=\"1\" class=\"dataframe\">\n",
       "  <thead>\n",
       "    <tr style=\"text-align: right;\">\n",
       "      <th></th>\n",
       "      <th>bid_flow</th>\n",
       "      <th>ask_flow</th>\n",
       "      <th>bid_ask_flow</th>\n",
       "    </tr>\n",
       "  </thead>\n",
       "  <tbody>\n",
       "    <tr>\n",
       "      <th>bid_flow</th>\n",
       "      <td>1.000000</td>\n",
       "      <td>-0.428559</td>\n",
       "      <td>0.887992</td>\n",
       "    </tr>\n",
       "    <tr>\n",
       "      <th>ask_flow</th>\n",
       "      <td>-0.428559</td>\n",
       "      <td>1.000000</td>\n",
       "      <td>-0.784889</td>\n",
       "    </tr>\n",
       "    <tr>\n",
       "      <th>bid_ask_flow</th>\n",
       "      <td>0.887992</td>\n",
       "      <td>-0.784889</td>\n",
       "      <td>1.000000</td>\n",
       "    </tr>\n",
       "  </tbody>\n",
       "</table>\n",
       "</div>"
      ],
      "text/plain": [
       "              bid_flow  ask_flow  bid_ask_flow\n",
       "bid_flow      1.000000 -0.428559      0.887992\n",
       "ask_flow     -0.428559  1.000000     -0.784889\n",
       "bid_ask_flow  0.887992 -0.784889      1.000000"
      ]
     },
     "execution_count": 44,
     "metadata": {},
     "output_type": "execute_result"
    }
   ],
   "source": [
    "data[['bid_flow', 'ask_flow', 'bid_ask_flow']].corr()"
   ]
  },
  {
   "cell_type": "code",
   "execution_count": 45,
   "metadata": {},
   "outputs": [
    {
     "data": {
      "text/html": [
       "<div>\n",
       "<style scoped>\n",
       "    .dataframe tbody tr th:only-of-type {\n",
       "        vertical-align: middle;\n",
       "    }\n",
       "\n",
       "    .dataframe tbody tr th {\n",
       "        vertical-align: top;\n",
       "    }\n",
       "\n",
       "    .dataframe thead th {\n",
       "        text-align: right;\n",
       "    }\n",
       "</style>\n",
       "<table border=\"1\" class=\"dataframe\">\n",
       "  <thead>\n",
       "    <tr style=\"text-align: right;\">\n",
       "      <th></th>\n",
       "      <th>logVASK0</th>\n",
       "      <th>logVBID0</th>\n",
       "    </tr>\n",
       "  </thead>\n",
       "  <tbody>\n",
       "    <tr>\n",
       "      <th>logVASK0</th>\n",
       "      <td>1.000000</td>\n",
       "      <td>-0.460094</td>\n",
       "    </tr>\n",
       "    <tr>\n",
       "      <th>logVBID0</th>\n",
       "      <td>-0.460094</td>\n",
       "      <td>1.000000</td>\n",
       "    </tr>\n",
       "  </tbody>\n",
       "</table>\n",
       "</div>"
      ],
      "text/plain": [
       "          logVASK0  logVBID0\n",
       "logVASK0  1.000000 -0.460094\n",
       "logVBID0 -0.460094  1.000000"
      ]
     },
     "execution_count": 45,
     "metadata": {},
     "output_type": "execute_result"
    }
   ],
   "source": [
    "data[['logVASK0', 'logVBID0']].corr()"
   ]
  },
  {
   "cell_type": "markdown",
   "metadata": {},
   "source": [
    "Часть фичей мы не будем включать из-за высокой корреляции с другими"
   ]
  },
  {
   "cell_type": "markdown",
   "metadata": {},
   "source": [
    "# Model"
   ]
  },
  {
   "cell_type": "code",
   "execution_count": 46,
   "metadata": {},
   "outputs": [],
   "source": [
    "#train_data = train_data.replace([np.inf, -np.inf], np.nan).fillna(0)"
   ]
  },
  {
   "cell_type": "code",
   "execution_count": 47,
   "metadata": {},
   "outputs": [],
   "source": [
    "data = train_data"
   ]
  },
  {
   "cell_type": "code",
   "execution_count": 48,
   "metadata": {},
   "outputs": [
    {
     "name": "stdout",
     "output_type": "stream",
     "text": [
      "Index(['VASK0', 'VASK1', 'VASK2', 'VASK3', 'VASK4', 'VBID0', 'VBID1', 'VBID2',\n",
      "       'VBID3', 'VBID4', 'VASK0_PREV', 'VASK1_PREV', 'VASK2_PREV',\n",
      "       'VASK3_PREV', 'VASK4_PREV', 'VBID0_PREV', 'VBID1_PREV', 'VBID2_PREV',\n",
      "       'VBID3_PREV', 'VBID4_PREV', 'Y', 'logVASK0', 'logVBID0',\n",
      "       'logASK0/ASK0_PREV', 'logBID0/BID0_PREV', 'mom0', 'mom1', 'mom2',\n",
      "       'mom3', 'std', 'ask_flow', 'bid_flow', 'bid_ask_flow'],\n",
      "      dtype='object')\n"
     ]
    }
   ],
   "source": [
    "print(train_data.columns)"
   ]
  },
  {
   "cell_type": "code",
   "execution_count": 49,
   "metadata": {},
   "outputs": [],
   "source": [
    "data = data[[\n",
    "       'Y', 'mom1', 'mom2', 'mom3',\n",
    "       'ask_flow', 'bid_flow', 'std', 'logVBID0', 'logVASK0',\n",
    "       'logBID0/BID0_PREV', 'logASK0/ASK0_PREV'\n",
    "]]"
   ]
  },
  {
   "cell_type": "code",
   "execution_count": 50,
   "metadata": {},
   "outputs": [],
   "source": [
    "data = data.fillna(0)"
   ]
  },
  {
   "cell_type": "code",
   "execution_count": 51,
   "metadata": {},
   "outputs": [],
   "source": [
    "q = 0.8\n",
    "X_train, X_test = data[data.columns[data.columns != 'Y']][:int(len(data)*q)], data[data.columns[data.columns != 'Y']][int(len(data)*q):]\n",
    "y_train, y_test = data[data.columns[data.columns == 'Y']][:int(len(data)*q)], data[data.columns[data.columns == 'Y']][int(len(data)*q):]"
   ]
  },
  {
   "cell_type": "code",
   "execution_count": 52,
   "metadata": {},
   "outputs": [],
   "source": [
    "y_train = np.array(y_train).reshape((-1, 1))\n",
    "y_test = np.array(y_test).reshape((-1, 1))"
   ]
  },
  {
   "cell_type": "code",
   "execution_count": 53,
   "metadata": {},
   "outputs": [
    {
     "name": "stdout",
     "output_type": "stream",
     "text": [
      "Optimization terminated successfully.\n",
      "         Current function value: 0.043042\n",
      "         Iterations 10\n"
     ]
    }
   ],
   "source": [
    "from statsmodels.discrete.discrete_model import Logit\n",
    "import statsmodels.api as sm\n",
    "x = sm.add_constant(X_train)\n",
    "y = Logit(y_train, x).fit()"
   ]
  },
  {
   "cell_type": "code",
   "execution_count": 54,
   "metadata": {},
   "outputs": [
    {
     "name": "stdout",
     "output_type": "stream",
     "text": [
      "                           Logit Regression Results                           \n",
      "==============================================================================\n",
      "Dep. Variable:                      y   No. Observations:               149272\n",
      "Model:                          Logit   Df Residuals:                   149261\n",
      "Method:                           MLE   Df Model:                           10\n",
      "Date:                Fri, 06 Nov 2020   Pseudo R-squ.:                  0.2415\n",
      "Time:                        11:34:30   Log-Likelihood:                -6425.0\n",
      "converged:                       True   LL-Null:                       -8470.8\n",
      "Covariance Type:            nonrobust   LLR p-value:                     0.000\n",
      "=====================================================================================\n",
      "                        coef    std err          z      P>|z|      [0.025      0.975]\n",
      "-------------------------------------------------------------------------------------\n",
      "const                -6.1282      0.739     -8.294      0.000      -7.576      -4.680\n",
      "mom1                  0.0520      0.063      0.829      0.407      -0.071       0.175\n",
      "mom2                 -0.0108      0.105     -0.102      0.919      -0.217       0.196\n",
      "mom3                  0.1576      0.320      0.492      0.623      -0.470       0.785\n",
      "ask_flow              0.3898      0.061      6.368      0.000       0.270       0.510\n",
      "bid_flow              0.3368      0.063      5.319      0.000       0.213       0.461\n",
      "std                   0.2029      0.140      1.452      0.146      -0.071       0.477\n",
      "logVBID0             -0.7331      0.063    -11.661      0.000      -0.856      -0.610\n",
      "logVASK0             -0.6808      0.062    -11.058      0.000      -0.801      -0.560\n",
      "logBID0/BID0_PREV    -1.1029      0.280     -3.932      0.000      -1.653      -0.553\n",
      "logASK0/ASK0_PREV    -1.3298      0.278     -4.780      0.000      -1.875      -0.785\n",
      "=====================================================================================\n"
     ]
    }
   ],
   "source": [
    "print(y.summary())"
   ]
  },
  {
   "cell_type": "code",
   "execution_count": 55,
   "metadata": {},
   "outputs": [],
   "source": [
    "from sklearn.metrics import confusion_matrix\n",
    "from sklearn.metrics import roc_auc_score\n",
    "from sklearn.metrics import classification_report,confusion_matrix,roc_curve,auc,precision_recall_curve,roc_curve\n",
    "import xgboost as xgb"
   ]
  },
  {
   "cell_type": "code",
   "execution_count": 56,
   "metadata": {},
   "outputs": [
    {
     "name": "stdout",
     "output_type": "stream",
     "text": [
      "[[    1 36920]\n",
      " [    0   397]]\n",
      "[[13282 23639]\n",
      " [   13   384]]\n",
      "[[25115 11806]\n",
      " [   31   366]]\n",
      "[[31203  5718]\n",
      " [   74   323]]\n",
      "[[35023  1898]\n",
      " [  174   223]]\n",
      "[[35805  1116]\n",
      " [  223   174]]\n",
      "[[36422   499]\n",
      " [  277   120]]\n",
      "[[36600   321]\n",
      " [  306    91]]\n",
      "[[36810   111]\n",
      " [  352    45]]\n",
      "#######\n",
      "score: 0.8977674232210827\n"
     ]
    }
   ],
   "source": [
    "x = sm.add_constant(X_test)\n",
    "y_predicted = y.predict(x)\n",
    "t = []\n",
    "score = []\n",
    "for M in [0.0001, 0.01/4, 0.01/2, 0.01, 0.03, 0.05, 0.1, 0.13, 0.2]:\n",
    "    t.append(M)\n",
    "    print(confusion_matrix(y_test, y_predicted  > M)) #threshold to compare CF\n",
    "    \n",
    "print(\"#######\")\n",
    "print('score:', roc_auc_score(y_test, y_predicted))"
   ]
  },
  {
   "cell_type": "code",
   "execution_count": 57,
   "metadata": {},
   "outputs": [],
   "source": [
    "y_train = np.array(y_train).ravel()\n",
    "y_test = np.array(y_test).ravel()"
   ]
  },
  {
   "cell_type": "code",
   "execution_count": 58,
   "metadata": {},
   "outputs": [
    {
     "data": {
      "text/plain": [
       "[<matplotlib.lines.Line2D at 0x1d1a2e76d30>]"
      ]
     },
     "execution_count": 58,
     "metadata": {},
     "output_type": "execute_result"
    },
    {
     "data": {
      "image/png": "[encoded data removed]",
      "text/plain": [
       "<Figure size 432x288 with 1 Axes>"
      ]
     },
     "metadata": {
      "needs_background": "light"
     },
     "output_type": "display_data"
    }
   ],
   "source": [
    "reg = xgb.XGBRegressor(n_estimators=2000)\n",
    "reg.fit(X_train, y_train,\n",
    "        eval_set=[(X_train, y_train), (X_test, y_test)],\n",
    "        early_stopping_rounds=200,\n",
    "       verbose=False,\n",
    "       ) # Change verbose to True if you want to see it train\n",
    "\n",
    "\n",
    "plt.plot(reg.predict(X_test))"
   ]
  },
  {
   "cell_type": "code",
   "execution_count": 59,
   "metadata": {},
   "outputs": [
    {
     "name": "stdout",
     "output_type": "stream",
     "text": [
      "[[   49 36872]\n",
      " [    3   394]]\n",
      "[[  106 36815]\n",
      " [    3   394]]\n",
      "[[25570 11351]\n",
      " [   39   358]]\n",
      "[[30989  5932]\n",
      " [   70   327]]\n",
      "[[34433  2488]\n",
      " [  144   253]]\n",
      "[[35593  1328]\n",
      " [  196   201]]\n",
      "[[36471   450]\n",
      " [  271   126]]\n",
      "[[36583   338]\n",
      " [  290   107]]\n",
      "[[36741   180]\n",
      " [  320    77]]\n",
      "#######\n",
      "score: 0.8999905987574942\n"
     ]
    }
   ],
   "source": [
    "y_predicted = reg.predict(X_test)\n",
    "t = []\n",
    "score = []\n",
    "for M in [0.0001, 0.01/4, 0.01/2, 0.01, 0.03, 0.05, 0.1, 0.13, 0.2]:\n",
    "    t.append(M)\n",
    "    print(confusion_matrix(y_test, y_predicted  > M)) #threshold to compare CF\n",
    "    \n",
    "print(\"#######\")\n",
    "print('score:', roc_auc_score(y_test, y_predicted))"
   ]
  },
  {
   "cell_type": "code",
   "execution_count": 60,
   "metadata": {},
   "outputs": [],
   "source": [
    "FI = pd.Series(reg.feature_importances_)\n",
    "FI.index = list(X_train.columns)"
   ]
  },
  {
   "cell_type": "code",
   "execution_count": 61,
   "metadata": {},
   "outputs": [
    {
     "data": {
      "text/plain": [
       "mom1                 0.065048\n",
       "mom2                 0.068385\n",
       "mom3                 0.068637\n",
       "ask_flow             0.075098\n",
       "bid_flow             0.089306\n",
       "std                  0.089911\n",
       "logVBID0             0.089319\n",
       "logVASK0             0.100277\n",
       "logBID0/BID0_PREV    0.173954\n",
       "logASK0/ASK0_PREV    0.180065\n",
       "dtype: float32"
      ]
     },
     "execution_count": 61,
     "metadata": {},
     "output_type": "execute_result"
    }
   ],
   "source": [
    "FI"
   ]
  },
  {
   "cell_type": "code",
   "execution_count": 62,
   "metadata": {},
   "outputs": [],
   "source": [
    "from catboost import CatBoostClassifier"
   ]
  },
  {
   "cell_type": "code",
   "execution_count": 63,
   "metadata": {},
   "outputs": [
    {
     "name": "stdout",
     "output_type": "stream",
     "text": [
      "0:\tlearn: 0.0565229\ttotal: 201ms\tremaining: 1m 40s\n",
      "1:\tlearn: 0.0540839\ttotal: 218ms\tremaining: 54.2s\n",
      "2:\tlearn: 0.0510117\ttotal: 236ms\tremaining: 39.1s\n",
      "3:\tlearn: 0.0496353\ttotal: 256ms\tremaining: 31.8s\n",
      "4:\tlearn: 0.0490601\ttotal: 273ms\tremaining: 27s\n",
      "5:\tlearn: 0.0473996\ttotal: 293ms\tremaining: 24.1s\n",
      "6:\tlearn: 0.0469109\ttotal: 311ms\tremaining: 21.9s\n",
      "7:\tlearn: 0.0459353\ttotal: 330ms\tremaining: 20.3s\n",
      "8:\tlearn: 0.0457324\ttotal: 348ms\tremaining: 19s\n",
      "9:\tlearn: 0.0452045\ttotal: 367ms\tremaining: 18s\n",
      "10:\tlearn: 0.0451276\ttotal: 384ms\tremaining: 17.1s\n",
      "11:\tlearn: 0.0448912\ttotal: 402ms\tremaining: 16.3s\n",
      "12:\tlearn: 0.0447888\ttotal: 419ms\tremaining: 15.7s\n",
      "13:\tlearn: 0.0445604\ttotal: 436ms\tremaining: 15.1s\n",
      "14:\tlearn: 0.0444281\ttotal: 455ms\tremaining: 14.7s\n",
      "15:\tlearn: 0.0441753\ttotal: 473ms\tremaining: 14.3s\n",
      "16:\tlearn: 0.0440229\ttotal: 491ms\tremaining: 14s\n",
      "17:\tlearn: 0.0439908\ttotal: 507ms\tremaining: 13.6s\n",
      "18:\tlearn: 0.0439619\ttotal: 524ms\tremaining: 13.3s\n",
      "19:\tlearn: 0.0437931\ttotal: 542ms\tremaining: 13s\n",
      "20:\tlearn: 0.0437381\ttotal: 562ms\tremaining: 12.8s\n",
      "21:\tlearn: 0.0435956\ttotal: 581ms\tremaining: 12.6s\n",
      "22:\tlearn: 0.0434433\ttotal: 599ms\tremaining: 12.4s\n",
      "23:\tlearn: 0.0434159\ttotal: 615ms\tremaining: 12.2s\n",
      "24:\tlearn: 0.0433989\ttotal: 633ms\tremaining: 12s\n",
      "25:\tlearn: 0.0433771\ttotal: 650ms\tremaining: 11.8s\n",
      "26:\tlearn: 0.0433507\ttotal: 668ms\tremaining: 11.7s\n",
      "27:\tlearn: 0.0433284\ttotal: 686ms\tremaining: 11.6s\n",
      "28:\tlearn: 0.0432395\ttotal: 701ms\tremaining: 11.4s\n",
      "29:\tlearn: 0.0431787\ttotal: 719ms\tremaining: 11.3s\n",
      "30:\tlearn: 0.0431207\ttotal: 739ms\tremaining: 11.2s\n",
      "31:\tlearn: 0.0430884\ttotal: 755ms\tremaining: 11s\n",
      "32:\tlearn: 0.0430206\ttotal: 776ms\tremaining: 11s\n",
      "33:\tlearn: 0.0429065\ttotal: 795ms\tremaining: 10.9s\n",
      "34:\tlearn: 0.0428882\ttotal: 813ms\tremaining: 10.8s\n",
      "35:\tlearn: 0.0428748\ttotal: 833ms\tremaining: 10.7s\n",
      "36:\tlearn: 0.0428012\ttotal: 851ms\tremaining: 10.7s\n",
      "37:\tlearn: 0.0427389\ttotal: 870ms\tremaining: 10.6s\n",
      "38:\tlearn: 0.0426776\ttotal: 887ms\tremaining: 10.5s\n",
      "39:\tlearn: 0.0426327\ttotal: 906ms\tremaining: 10.4s\n",
      "40:\tlearn: 0.0426147\ttotal: 927ms\tremaining: 10.4s\n",
      "41:\tlearn: 0.0425273\ttotal: 953ms\tremaining: 10.4s\n",
      "42:\tlearn: 0.0424720\ttotal: 973ms\tremaining: 10.3s\n",
      "43:\tlearn: 0.0424255\ttotal: 993ms\tremaining: 10.3s\n",
      "44:\tlearn: 0.0423783\ttotal: 1.01s\tremaining: 10.3s\n",
      "45:\tlearn: 0.0423669\ttotal: 1.04s\tremaining: 10.3s\n",
      "46:\tlearn: 0.0423057\ttotal: 1.06s\tremaining: 10.2s\n",
      "47:\tlearn: 0.0422882\ttotal: 1.08s\tremaining: 10.2s\n",
      "48:\tlearn: 0.0422723\ttotal: 1.1s\tremaining: 10.2s\n",
      "49:\tlearn: 0.0422598\ttotal: 1.13s\tremaining: 10.1s\n",
      "50:\tlearn: 0.0422533\ttotal: 1.15s\tremaining: 10.1s\n",
      "51:\tlearn: 0.0422425\ttotal: 1.17s\tremaining: 10s\n",
      "52:\tlearn: 0.0422343\ttotal: 1.19s\tremaining: 10s\n",
      "53:\tlearn: 0.0422210\ttotal: 1.21s\tremaining: 9.97s\n",
      "54:\tlearn: 0.0421733\ttotal: 1.23s\tremaining: 9.95s\n",
      "55:\tlearn: 0.0421495\ttotal: 1.25s\tremaining: 9.91s\n",
      "56:\tlearn: 0.0421443\ttotal: 1.27s\tremaining: 9.89s\n",
      "57:\tlearn: 0.0421045\ttotal: 1.29s\tremaining: 9.85s\n",
      "58:\tlearn: 0.0420899\ttotal: 1.31s\tremaining: 9.83s\n",
      "59:\tlearn: 0.0420530\ttotal: 1.34s\tremaining: 9.8s\n",
      "60:\tlearn: 0.0420477\ttotal: 1.36s\tremaining: 9.76s\n",
      "61:\tlearn: 0.0420409\ttotal: 1.38s\tremaining: 9.73s\n",
      "62:\tlearn: 0.0420375\ttotal: 1.4s\tremaining: 9.71s\n",
      "63:\tlearn: 0.0420274\ttotal: 1.42s\tremaining: 9.7s\n",
      "64:\tlearn: 0.0420225\ttotal: 1.44s\tremaining: 9.65s\n",
      "65:\tlearn: 0.0419841\ttotal: 1.46s\tremaining: 9.6s\n",
      "66:\tlearn: 0.0419646\ttotal: 1.48s\tremaining: 9.55s\n",
      "67:\tlearn: 0.0419607\ttotal: 1.5s\tremaining: 9.51s\n",
      "68:\tlearn: 0.0419547\ttotal: 1.52s\tremaining: 9.48s\n",
      "69:\tlearn: 0.0419194\ttotal: 1.53s\tremaining: 9.43s\n",
      "70:\tlearn: 0.0419124\ttotal: 1.55s\tremaining: 9.39s\n",
      "71:\tlearn: 0.0418896\ttotal: 1.57s\tremaining: 9.35s\n",
      "72:\tlearn: 0.0418734\ttotal: 1.59s\tremaining: 9.31s\n",
      "73:\tlearn: 0.0418660\ttotal: 1.61s\tremaining: 9.26s\n",
      "74:\tlearn: 0.0418578\ttotal: 1.63s\tremaining: 9.21s\n",
      "75:\tlearn: 0.0418519\ttotal: 1.64s\tremaining: 9.17s\n",
      "76:\tlearn: 0.0417973\ttotal: 1.66s\tremaining: 9.13s\n",
      "77:\tlearn: 0.0417859\ttotal: 1.68s\tremaining: 9.09s\n",
      "78:\tlearn: 0.0417795\ttotal: 1.7s\tremaining: 9.04s\n",
      "79:\tlearn: 0.0417703\ttotal: 1.71s\tremaining: 9s\n",
      "80:\tlearn: 0.0417653\ttotal: 1.73s\tremaining: 8.95s\n",
      "81:\tlearn: 0.0417593\ttotal: 1.75s\tremaining: 8.92s\n",
      "82:\tlearn: 0.0417518\ttotal: 1.77s\tremaining: 8.88s\n",
      "83:\tlearn: 0.0417469\ttotal: 1.78s\tremaining: 8.84s\n",
      "84:\tlearn: 0.0417239\ttotal: 1.8s\tremaining: 8.8s\n",
      "85:\tlearn: 0.0417143\ttotal: 1.82s\tremaining: 8.76s\n",
      "86:\tlearn: 0.0417056\ttotal: 1.84s\tremaining: 8.72s\n",
      "87:\tlearn: 0.0416802\ttotal: 1.85s\tremaining: 8.68s\n",
      "88:\tlearn: 0.0416607\ttotal: 1.87s\tremaining: 8.65s\n",
      "89:\tlearn: 0.0416558\ttotal: 1.89s\tremaining: 8.61s\n",
      "90:\tlearn: 0.0416485\ttotal: 1.91s\tremaining: 8.58s\n",
      "91:\tlearn: 0.0416396\ttotal: 1.93s\tremaining: 8.55s\n",
      "92:\tlearn: 0.0416361\ttotal: 1.95s\tremaining: 8.52s\n",
      "93:\tlearn: 0.0416331\ttotal: 1.96s\tremaining: 8.48s\n",
      "94:\tlearn: 0.0416149\ttotal: 1.98s\tremaining: 8.44s\n",
      "95:\tlearn: 0.0416036\ttotal: 2s\tremaining: 8.41s\n",
      "96:\tlearn: 0.0415780\ttotal: 2.02s\tremaining: 8.38s\n",
      "97:\tlearn: 0.0415596\ttotal: 2.03s\tremaining: 8.35s\n",
      "98:\tlearn: 0.0415546\ttotal: 2.05s\tremaining: 8.31s\n",
      "99:\tlearn: 0.0415512\ttotal: 2.07s\tremaining: 8.28s\n",
      "100:\tlearn: 0.0415459\ttotal: 2.09s\tremaining: 8.24s\n",
      "101:\tlearn: 0.0415425\ttotal: 2.1s\tremaining: 8.21s\n",
      "102:\tlearn: 0.0415375\ttotal: 2.12s\tremaining: 8.18s\n",
      "103:\tlearn: 0.0415295\ttotal: 2.14s\tremaining: 8.15s\n",
      "104:\tlearn: 0.0415235\ttotal: 2.16s\tremaining: 8.11s\n",
      "105:\tlearn: 0.0415202\ttotal: 2.17s\tremaining: 8.08s\n",
      "106:\tlearn: 0.0415172\ttotal: 2.19s\tremaining: 8.05s\n",
      "107:\tlearn: 0.0414880\ttotal: 2.21s\tremaining: 8.04s\n",
      "108:\tlearn: 0.0414863\ttotal: 2.23s\tremaining: 8.01s\n",
      "109:\tlearn: 0.0414486\ttotal: 2.25s\tremaining: 7.98s\n",
      "110:\tlearn: 0.0414285\ttotal: 2.27s\tremaining: 7.95s\n",
      "111:\tlearn: 0.0414168\ttotal: 2.29s\tremaining: 7.92s\n",
      "112:\tlearn: 0.0414153\ttotal: 2.3s\tremaining: 7.89s\n",
      "113:\tlearn: 0.0413947\ttotal: 2.32s\tremaining: 7.85s\n",
      "114:\tlearn: 0.0413897\ttotal: 2.34s\tremaining: 7.83s\n",
      "115:\tlearn: 0.0413765\ttotal: 2.36s\tremaining: 7.8s\n",
      "116:\tlearn: 0.0413740\ttotal: 2.38s\tremaining: 7.78s\n",
      "117:\tlearn: 0.0413707\ttotal: 2.39s\tremaining: 7.74s\n",
      "118:\tlearn: 0.0413666\ttotal: 2.41s\tremaining: 7.71s\n",
      "119:\tlearn: 0.0413635\ttotal: 2.42s\tremaining: 7.68s\n",
      "120:\tlearn: 0.0413456\ttotal: 2.44s\tremaining: 7.66s\n",
      "121:\tlearn: 0.0413417\ttotal: 2.46s\tremaining: 7.63s\n",
      "122:\tlearn: 0.0413380\ttotal: 2.48s\tremaining: 7.62s\n",
      "123:\tlearn: 0.0413222\ttotal: 2.5s\tremaining: 7.59s\n",
      "124:\tlearn: 0.0413079\ttotal: 2.52s\tremaining: 7.57s\n",
      "125:\tlearn: 0.0413028\ttotal: 2.54s\tremaining: 7.54s\n",
      "126:\tlearn: 0.0412871\ttotal: 2.56s\tremaining: 7.51s\n",
      "127:\tlearn: 0.0412796\ttotal: 2.57s\tremaining: 7.48s\n",
      "128:\tlearn: 0.0412771\ttotal: 2.59s\tremaining: 7.46s\n",
      "129:\tlearn: 0.0412749\ttotal: 2.61s\tremaining: 7.43s\n",
      "130:\tlearn: 0.0412716\ttotal: 2.63s\tremaining: 7.41s\n",
      "131:\tlearn: 0.0412610\ttotal: 2.65s\tremaining: 7.38s\n",
      "132:\tlearn: 0.0412536\ttotal: 2.67s\tremaining: 7.36s\n",
      "133:\tlearn: 0.0412521\ttotal: 2.68s\tremaining: 7.33s\n",
      "134:\tlearn: 0.0412435\ttotal: 2.7s\tremaining: 7.3s\n",
      "135:\tlearn: 0.0412397\ttotal: 2.72s\tremaining: 7.28s\n",
      "136:\tlearn: 0.0412351\ttotal: 2.74s\tremaining: 7.26s\n",
      "137:\tlearn: 0.0412286\ttotal: 2.75s\tremaining: 7.23s\n",
      "138:\tlearn: 0.0412273\ttotal: 2.77s\tremaining: 7.2s\n",
      "139:\tlearn: 0.0412250\ttotal: 2.79s\tremaining: 7.17s\n",
      "140:\tlearn: 0.0412218\ttotal: 2.81s\tremaining: 7.14s\n",
      "141:\tlearn: 0.0412202\ttotal: 2.83s\tremaining: 7.12s\n",
      "142:\tlearn: 0.0412192\ttotal: 2.84s\tremaining: 7.09s\n",
      "143:\tlearn: 0.0412141\ttotal: 2.86s\tremaining: 7.07s\n",
      "144:\tlearn: 0.0412113\ttotal: 2.88s\tremaining: 7.04s\n",
      "145:\tlearn: 0.0412013\ttotal: 2.89s\tremaining: 7.01s\n",
      "146:\tlearn: 0.0411910\ttotal: 2.91s\tremaining: 6.99s\n",
      "147:\tlearn: 0.0411878\ttotal: 2.93s\tremaining: 6.96s\n",
      "148:\tlearn: 0.0411767\ttotal: 2.94s\tremaining: 6.93s\n",
      "149:\tlearn: 0.0411751\ttotal: 2.96s\tremaining: 6.91s\n",
      "150:\tlearn: 0.0411616\ttotal: 2.98s\tremaining: 6.88s\n",
      "151:\tlearn: 0.0411562\ttotal: 3s\tremaining: 6.86s\n",
      "152:\tlearn: 0.0411552\ttotal: 3.01s\tremaining: 6.83s\n",
      "153:\tlearn: 0.0411540\ttotal: 3.03s\tremaining: 6.8s\n",
      "154:\tlearn: 0.0411422\ttotal: 3.05s\tremaining: 6.79s\n",
      "155:\tlearn: 0.0411318\ttotal: 3.06s\tremaining: 6.76s\n",
      "156:\tlearn: 0.0411295\ttotal: 3.08s\tremaining: 6.73s\n",
      "157:\tlearn: 0.0411273\ttotal: 3.1s\tremaining: 6.71s\n",
      "158:\tlearn: 0.0411143\ttotal: 3.12s\tremaining: 6.68s\n",
      "159:\tlearn: 0.0411099\ttotal: 3.13s\tremaining: 6.66s\n",
      "160:\tlearn: 0.0411064\ttotal: 3.15s\tremaining: 6.64s\n"
     ]
    },
    {
     "name": "stdout",
     "output_type": "stream",
     "text": [
      "161:\tlearn: 0.0411035\ttotal: 3.17s\tremaining: 6.61s\n",
      "162:\tlearn: 0.0410978\ttotal: 3.19s\tremaining: 6.59s\n",
      "163:\tlearn: 0.0410915\ttotal: 3.2s\tremaining: 6.56s\n",
      "164:\tlearn: 0.0410894\ttotal: 3.22s\tremaining: 6.54s\n",
      "165:\tlearn: 0.0410827\ttotal: 3.24s\tremaining: 6.51s\n",
      "166:\tlearn: 0.0410793\ttotal: 3.25s\tremaining: 6.49s\n",
      "167:\tlearn: 0.0410785\ttotal: 3.27s\tremaining: 6.47s\n",
      "168:\tlearn: 0.0410672\ttotal: 3.29s\tremaining: 6.44s\n",
      "169:\tlearn: 0.0410588\ttotal: 3.31s\tremaining: 6.42s\n",
      "170:\tlearn: 0.0410569\ttotal: 3.33s\tremaining: 6.4s\n",
      "171:\tlearn: 0.0410557\ttotal: 3.34s\tremaining: 6.38s\n",
      "172:\tlearn: 0.0410531\ttotal: 3.36s\tremaining: 6.36s\n",
      "173:\tlearn: 0.0410501\ttotal: 3.38s\tremaining: 6.33s\n",
      "174:\tlearn: 0.0410471\ttotal: 3.4s\tremaining: 6.31s\n",
      "175:\tlearn: 0.0410371\ttotal: 3.42s\tremaining: 6.29s\n",
      "176:\tlearn: 0.0410286\ttotal: 3.44s\tremaining: 6.28s\n",
      "177:\tlearn: 0.0410266\ttotal: 3.46s\tremaining: 6.25s\n",
      "178:\tlearn: 0.0410238\ttotal: 3.48s\tremaining: 6.23s\n",
      "179:\tlearn: 0.0410207\ttotal: 3.49s\tremaining: 6.21s\n",
      "180:\tlearn: 0.0410188\ttotal: 3.51s\tremaining: 6.19s\n",
      "181:\tlearn: 0.0410177\ttotal: 3.53s\tremaining: 6.17s\n",
      "182:\tlearn: 0.0410096\ttotal: 3.55s\tremaining: 6.15s\n",
      "183:\tlearn: 0.0410069\ttotal: 3.57s\tremaining: 6.13s\n",
      "184:\tlearn: 0.0409981\ttotal: 3.58s\tremaining: 6.11s\n",
      "185:\tlearn: 0.0409921\ttotal: 3.6s\tremaining: 6.08s\n",
      "186:\tlearn: 0.0409909\ttotal: 3.62s\tremaining: 6.06s\n",
      "187:\tlearn: 0.0409841\ttotal: 3.64s\tremaining: 6.03s\n",
      "188:\tlearn: 0.0409813\ttotal: 3.65s\tremaining: 6.01s\n",
      "189:\tlearn: 0.0409806\ttotal: 3.67s\tremaining: 5.99s\n",
      "190:\tlearn: 0.0409728\ttotal: 3.69s\tremaining: 5.97s\n",
      "191:\tlearn: 0.0409704\ttotal: 3.71s\tremaining: 5.95s\n",
      "192:\tlearn: 0.0409662\ttotal: 3.73s\tremaining: 5.92s\n",
      "193:\tlearn: 0.0409634\ttotal: 3.74s\tremaining: 5.91s\n",
      "194:\tlearn: 0.0409627\ttotal: 3.76s\tremaining: 5.88s\n",
      "195:\tlearn: 0.0409613\ttotal: 3.78s\tremaining: 5.86s\n",
      "196:\tlearn: 0.0409605\ttotal: 3.79s\tremaining: 5.84s\n",
      "197:\tlearn: 0.0409558\ttotal: 3.82s\tremaining: 5.82s\n",
      "198:\tlearn: 0.0409553\ttotal: 3.83s\tremaining: 5.8s\n",
      "199:\tlearn: 0.0409548\ttotal: 3.85s\tremaining: 5.78s\n",
      "200:\tlearn: 0.0409538\ttotal: 3.88s\tremaining: 5.77s\n",
      "201:\tlearn: 0.0409531\ttotal: 3.89s\tremaining: 5.74s\n",
      "202:\tlearn: 0.0409456\ttotal: 3.91s\tremaining: 5.72s\n",
      "203:\tlearn: 0.0409441\ttotal: 3.93s\tremaining: 5.7s\n",
      "204:\tlearn: 0.0409433\ttotal: 3.95s\tremaining: 5.68s\n",
      "205:\tlearn: 0.0409422\ttotal: 3.96s\tremaining: 5.66s\n",
      "206:\tlearn: 0.0409344\ttotal: 3.98s\tremaining: 5.63s\n",
      "207:\tlearn: 0.0409277\ttotal: 4s\tremaining: 5.61s\n",
      "208:\tlearn: 0.0409218\ttotal: 4.01s\tremaining: 5.59s\n",
      "209:\tlearn: 0.0409157\ttotal: 4.03s\tremaining: 5.57s\n",
      "210:\tlearn: 0.0409135\ttotal: 4.05s\tremaining: 5.54s\n",
      "211:\tlearn: 0.0409120\ttotal: 4.07s\tremaining: 5.52s\n",
      "212:\tlearn: 0.0409062\ttotal: 4.08s\tremaining: 5.5s\n",
      "213:\tlearn: 0.0409025\ttotal: 4.1s\tremaining: 5.48s\n",
      "214:\tlearn: 0.0408960\ttotal: 4.12s\tremaining: 5.46s\n",
      "215:\tlearn: 0.0408935\ttotal: 4.14s\tremaining: 5.44s\n",
      "216:\tlearn: 0.0408917\ttotal: 4.15s\tremaining: 5.42s\n",
      "217:\tlearn: 0.0408909\ttotal: 4.17s\tremaining: 5.39s\n",
      "218:\tlearn: 0.0408884\ttotal: 4.19s\tremaining: 5.37s\n",
      "219:\tlearn: 0.0408866\ttotal: 4.21s\tremaining: 5.35s\n",
      "220:\tlearn: 0.0408858\ttotal: 4.22s\tremaining: 5.33s\n",
      "221:\tlearn: 0.0408842\ttotal: 4.24s\tremaining: 5.31s\n",
      "222:\tlearn: 0.0408826\ttotal: 4.26s\tremaining: 5.29s\n",
      "223:\tlearn: 0.0408812\ttotal: 4.27s\tremaining: 5.26s\n",
      "224:\tlearn: 0.0408791\ttotal: 4.29s\tremaining: 5.24s\n",
      "225:\tlearn: 0.0408758\ttotal: 4.31s\tremaining: 5.22s\n",
      "226:\tlearn: 0.0408732\ttotal: 4.33s\tremaining: 5.21s\n",
      "227:\tlearn: 0.0408721\ttotal: 4.35s\tremaining: 5.19s\n",
      "228:\tlearn: 0.0408708\ttotal: 4.37s\tremaining: 5.17s\n",
      "229:\tlearn: 0.0408694\ttotal: 4.39s\tremaining: 5.16s\n",
      "230:\tlearn: 0.0408664\ttotal: 4.41s\tremaining: 5.14s\n",
      "231:\tlearn: 0.0408652\ttotal: 4.44s\tremaining: 5.12s\n",
      "232:\tlearn: 0.0408640\ttotal: 4.46s\tremaining: 5.11s\n",
      "233:\tlearn: 0.0408627\ttotal: 4.48s\tremaining: 5.09s\n",
      "234:\tlearn: 0.0408615\ttotal: 4.5s\tremaining: 5.07s\n",
      "235:\tlearn: 0.0408608\ttotal: 4.52s\tremaining: 5.06s\n",
      "236:\tlearn: 0.0408593\ttotal: 4.54s\tremaining: 5.04s\n",
      "237:\tlearn: 0.0408585\ttotal: 4.56s\tremaining: 5.02s\n",
      "238:\tlearn: 0.0408524\ttotal: 4.59s\tremaining: 5.01s\n",
      "239:\tlearn: 0.0408468\ttotal: 4.61s\tremaining: 4.99s\n",
      "240:\tlearn: 0.0408447\ttotal: 4.63s\tremaining: 4.97s\n",
      "241:\tlearn: 0.0408432\ttotal: 4.65s\tremaining: 4.96s\n",
      "242:\tlearn: 0.0408424\ttotal: 4.67s\tremaining: 4.94s\n",
      "243:\tlearn: 0.0408414\ttotal: 4.7s\tremaining: 4.93s\n",
      "244:\tlearn: 0.0408393\ttotal: 4.72s\tremaining: 4.91s\n",
      "245:\tlearn: 0.0408372\ttotal: 4.74s\tremaining: 4.89s\n",
      "246:\tlearn: 0.0408331\ttotal: 4.76s\tremaining: 4.87s\n",
      "247:\tlearn: 0.0408286\ttotal: 4.78s\tremaining: 4.86s\n",
      "248:\tlearn: 0.0408274\ttotal: 4.8s\tremaining: 4.84s\n",
      "249:\tlearn: 0.0408269\ttotal: 4.82s\tremaining: 4.82s\n",
      "250:\tlearn: 0.0408228\ttotal: 4.84s\tremaining: 4.8s\n",
      "251:\tlearn: 0.0408203\ttotal: 4.86s\tremaining: 4.79s\n",
      "252:\tlearn: 0.0408198\ttotal: 4.88s\tremaining: 4.77s\n",
      "253:\tlearn: 0.0408189\ttotal: 4.91s\tremaining: 4.75s\n",
      "254:\tlearn: 0.0408131\ttotal: 4.93s\tremaining: 4.74s\n",
      "255:\tlearn: 0.0407944\ttotal: 4.95s\tremaining: 4.72s\n",
      "256:\tlearn: 0.0407924\ttotal: 4.97s\tremaining: 4.7s\n",
      "257:\tlearn: 0.0407915\ttotal: 4.99s\tremaining: 4.68s\n",
      "258:\tlearn: 0.0407879\ttotal: 5.01s\tremaining: 4.67s\n",
      "259:\tlearn: 0.0407859\ttotal: 5.03s\tremaining: 4.65s\n",
      "260:\tlearn: 0.0407848\ttotal: 5.05s\tremaining: 4.63s\n",
      "261:\tlearn: 0.0407842\ttotal: 5.08s\tremaining: 4.61s\n",
      "262:\tlearn: 0.0407796\ttotal: 5.09s\tremaining: 4.59s\n",
      "263:\tlearn: 0.0407775\ttotal: 5.11s\tremaining: 4.57s\n",
      "264:\tlearn: 0.0407767\ttotal: 5.13s\tremaining: 4.55s\n",
      "265:\tlearn: 0.0407759\ttotal: 5.15s\tremaining: 4.53s\n",
      "266:\tlearn: 0.0407753\ttotal: 5.17s\tremaining: 4.51s\n",
      "267:\tlearn: 0.0407715\ttotal: 5.18s\tremaining: 4.49s\n",
      "268:\tlearn: 0.0407704\ttotal: 5.21s\tremaining: 4.47s\n",
      "269:\tlearn: 0.0407684\ttotal: 5.22s\tremaining: 4.45s\n",
      "270:\tlearn: 0.0407670\ttotal: 5.24s\tremaining: 4.43s\n",
      "271:\tlearn: 0.0407608\ttotal: 5.26s\tremaining: 4.41s\n",
      "272:\tlearn: 0.0407571\ttotal: 5.28s\tremaining: 4.39s\n",
      "273:\tlearn: 0.0407562\ttotal: 5.3s\tremaining: 4.37s\n",
      "274:\tlearn: 0.0407554\ttotal: 5.31s\tremaining: 4.35s\n",
      "275:\tlearn: 0.0407549\ttotal: 5.33s\tremaining: 4.33s\n",
      "276:\tlearn: 0.0407546\ttotal: 5.35s\tremaining: 4.31s\n",
      "277:\tlearn: 0.0407534\ttotal: 5.37s\tremaining: 4.29s\n",
      "278:\tlearn: 0.0407471\ttotal: 5.39s\tremaining: 4.27s\n",
      "279:\tlearn: 0.0407471\ttotal: 5.41s\tremaining: 4.25s\n",
      "280:\tlearn: 0.0407464\ttotal: 5.43s\tremaining: 4.23s\n",
      "281:\tlearn: 0.0407457\ttotal: 5.45s\tremaining: 4.21s\n",
      "282:\tlearn: 0.0407435\ttotal: 5.46s\tremaining: 4.19s\n",
      "283:\tlearn: 0.0407419\ttotal: 5.48s\tremaining: 4.17s\n",
      "284:\tlearn: 0.0407361\ttotal: 5.5s\tremaining: 4.15s\n",
      "285:\tlearn: 0.0407313\ttotal: 5.52s\tremaining: 4.13s\n",
      "286:\tlearn: 0.0407301\ttotal: 5.54s\tremaining: 4.11s\n",
      "287:\tlearn: 0.0407297\ttotal: 5.55s\tremaining: 4.09s\n",
      "288:\tlearn: 0.0407271\ttotal: 5.57s\tremaining: 4.07s\n",
      "289:\tlearn: 0.0407258\ttotal: 5.59s\tremaining: 4.05s\n",
      "290:\tlearn: 0.0407247\ttotal: 5.61s\tremaining: 4.03s\n",
      "291:\tlearn: 0.0407237\ttotal: 5.63s\tremaining: 4.01s\n",
      "292:\tlearn: 0.0407234\ttotal: 5.64s\tremaining: 3.99s\n",
      "293:\tlearn: 0.0407228\ttotal: 5.66s\tremaining: 3.97s\n",
      "294:\tlearn: 0.0407143\ttotal: 5.68s\tremaining: 3.95s\n",
      "295:\tlearn: 0.0407034\ttotal: 5.7s\tremaining: 3.93s\n",
      "296:\tlearn: 0.0407012\ttotal: 5.72s\tremaining: 3.91s\n",
      "297:\tlearn: 0.0406999\ttotal: 5.74s\tremaining: 3.89s\n",
      "298:\tlearn: 0.0406970\ttotal: 5.76s\tremaining: 3.87s\n",
      "299:\tlearn: 0.0406945\ttotal: 5.81s\tremaining: 3.87s\n",
      "300:\tlearn: 0.0406918\ttotal: 5.83s\tremaining: 3.85s\n",
      "301:\tlearn: 0.0406902\ttotal: 5.85s\tremaining: 3.84s\n",
      "302:\tlearn: 0.0406839\ttotal: 5.87s\tremaining: 3.81s\n",
      "303:\tlearn: 0.0406824\ttotal: 5.89s\tremaining: 3.8s\n",
      "304:\tlearn: 0.0406804\ttotal: 5.91s\tremaining: 3.78s\n",
      "305:\tlearn: 0.0406783\ttotal: 5.94s\tremaining: 3.76s\n",
      "306:\tlearn: 0.0406773\ttotal: 5.95s\tremaining: 3.74s\n",
      "307:\tlearn: 0.0406767\ttotal: 5.97s\tremaining: 3.72s\n",
      "308:\tlearn: 0.0406764\ttotal: 5.99s\tremaining: 3.7s\n",
      "309:\tlearn: 0.0406744\ttotal: 6s\tremaining: 3.68s\n",
      "310:\tlearn: 0.0406729\ttotal: 6.02s\tremaining: 3.66s\n",
      "311:\tlearn: 0.0406724\ttotal: 6.04s\tremaining: 3.64s\n",
      "312:\tlearn: 0.0406719\ttotal: 6.05s\tremaining: 3.62s\n",
      "313:\tlearn: 0.0406695\ttotal: 6.07s\tremaining: 3.6s\n",
      "314:\tlearn: 0.0406677\ttotal: 6.09s\tremaining: 3.58s\n",
      "315:\tlearn: 0.0406671\ttotal: 6.11s\tremaining: 3.56s\n",
      "316:\tlearn: 0.0406667\ttotal: 6.12s\tremaining: 3.54s\n",
      "317:\tlearn: 0.0406660\ttotal: 6.14s\tremaining: 3.51s\n",
      "318:\tlearn: 0.0406649\ttotal: 6.16s\tremaining: 3.49s\n",
      "319:\tlearn: 0.0406638\ttotal: 6.17s\tremaining: 3.47s\n",
      "320:\tlearn: 0.0406634\ttotal: 6.19s\tremaining: 3.45s\n",
      "321:\tlearn: 0.0406626\ttotal: 6.21s\tremaining: 3.43s\n",
      "322:\tlearn: 0.0406616\ttotal: 6.23s\tremaining: 3.41s\n",
      "323:\tlearn: 0.0406607\ttotal: 6.24s\tremaining: 3.39s\n",
      "324:\tlearn: 0.0406600\ttotal: 6.26s\tremaining: 3.37s\n"
     ]
    },
    {
     "name": "stdout",
     "output_type": "stream",
     "text": [
      "325:\tlearn: 0.0406592\ttotal: 6.28s\tremaining: 3.35s\n",
      "326:\tlearn: 0.0406586\ttotal: 6.3s\tremaining: 3.33s\n",
      "327:\tlearn: 0.0406568\ttotal: 6.31s\tremaining: 3.31s\n",
      "328:\tlearn: 0.0406559\ttotal: 6.33s\tremaining: 3.29s\n",
      "329:\tlearn: 0.0406544\ttotal: 6.35s\tremaining: 3.27s\n",
      "330:\tlearn: 0.0406539\ttotal: 6.37s\tremaining: 3.25s\n",
      "331:\tlearn: 0.0406501\ttotal: 6.38s\tremaining: 3.23s\n",
      "332:\tlearn: 0.0406491\ttotal: 6.4s\tremaining: 3.21s\n",
      "333:\tlearn: 0.0406475\ttotal: 6.42s\tremaining: 3.19s\n",
      "334:\tlearn: 0.0406464\ttotal: 6.44s\tremaining: 3.17s\n",
      "335:\tlearn: 0.0406454\ttotal: 6.46s\tremaining: 3.15s\n",
      "336:\tlearn: 0.0406440\ttotal: 6.47s\tremaining: 3.13s\n",
      "337:\tlearn: 0.0406425\ttotal: 6.49s\tremaining: 3.11s\n",
      "338:\tlearn: 0.0406416\ttotal: 6.51s\tremaining: 3.09s\n",
      "339:\tlearn: 0.0406407\ttotal: 6.53s\tremaining: 3.07s\n",
      "340:\tlearn: 0.0406400\ttotal: 6.55s\tremaining: 3.05s\n",
      "341:\tlearn: 0.0406391\ttotal: 6.57s\tremaining: 3.04s\n",
      "342:\tlearn: 0.0406387\ttotal: 6.59s\tremaining: 3.02s\n",
      "343:\tlearn: 0.0406379\ttotal: 6.61s\tremaining: 3s\n",
      "344:\tlearn: 0.0406354\ttotal: 6.63s\tremaining: 2.98s\n",
      "345:\tlearn: 0.0406337\ttotal: 6.65s\tremaining: 2.96s\n",
      "346:\tlearn: 0.0406327\ttotal: 6.68s\tremaining: 2.94s\n",
      "347:\tlearn: 0.0406275\ttotal: 6.7s\tremaining: 2.92s\n",
      "348:\tlearn: 0.0406255\ttotal: 6.72s\tremaining: 2.9s\n",
      "349:\tlearn: 0.0406245\ttotal: 6.74s\tremaining: 2.89s\n",
      "350:\tlearn: 0.0406238\ttotal: 6.76s\tremaining: 2.87s\n",
      "351:\tlearn: 0.0406202\ttotal: 6.78s\tremaining: 2.85s\n",
      "352:\tlearn: 0.0406191\ttotal: 6.8s\tremaining: 2.83s\n",
      "353:\tlearn: 0.0406181\ttotal: 6.82s\tremaining: 2.81s\n",
      "354:\tlearn: 0.0406178\ttotal: 6.84s\tremaining: 2.79s\n",
      "355:\tlearn: 0.0406155\ttotal: 6.86s\tremaining: 2.77s\n",
      "356:\tlearn: 0.0406147\ttotal: 6.89s\tremaining: 2.76s\n",
      "357:\tlearn: 0.0406134\ttotal: 6.91s\tremaining: 2.74s\n",
      "358:\tlearn: 0.0406128\ttotal: 6.93s\tremaining: 2.72s\n",
      "359:\tlearn: 0.0406124\ttotal: 6.95s\tremaining: 2.7s\n",
      "360:\tlearn: 0.0406105\ttotal: 6.97s\tremaining: 2.69s\n",
      "361:\tlearn: 0.0406092\ttotal: 7s\tremaining: 2.67s\n",
      "362:\tlearn: 0.0406058\ttotal: 7.02s\tremaining: 2.65s\n",
      "363:\tlearn: 0.0406047\ttotal: 7.04s\tremaining: 2.63s\n",
      "364:\tlearn: 0.0406027\ttotal: 7.06s\tremaining: 2.61s\n",
      "365:\tlearn: 0.0406013\ttotal: 7.08s\tremaining: 2.59s\n",
      "366:\tlearn: 0.0406006\ttotal: 7.1s\tremaining: 2.57s\n",
      "367:\tlearn: 0.0405995\ttotal: 7.12s\tremaining: 2.55s\n",
      "368:\tlearn: 0.0405987\ttotal: 7.13s\tremaining: 2.53s\n",
      "369:\tlearn: 0.0405959\ttotal: 7.15s\tremaining: 2.51s\n",
      "370:\tlearn: 0.0405951\ttotal: 7.17s\tremaining: 2.49s\n",
      "371:\tlearn: 0.0405912\ttotal: 7.19s\tremaining: 2.47s\n",
      "372:\tlearn: 0.0405905\ttotal: 7.2s\tremaining: 2.45s\n",
      "373:\tlearn: 0.0405849\ttotal: 7.22s\tremaining: 2.43s\n",
      "374:\tlearn: 0.0405845\ttotal: 7.24s\tremaining: 2.41s\n",
      "375:\tlearn: 0.0405839\ttotal: 7.26s\tremaining: 2.39s\n",
      "376:\tlearn: 0.0405832\ttotal: 7.28s\tremaining: 2.38s\n",
      "377:\tlearn: 0.0405801\ttotal: 7.3s\tremaining: 2.36s\n",
      "378:\tlearn: 0.0405799\ttotal: 7.32s\tremaining: 2.34s\n",
      "379:\tlearn: 0.0405765\ttotal: 7.35s\tremaining: 2.32s\n",
      "380:\tlearn: 0.0405761\ttotal: 7.37s\tremaining: 2.3s\n",
      "381:\tlearn: 0.0405745\ttotal: 7.4s\tremaining: 2.28s\n",
      "382:\tlearn: 0.0405714\ttotal: 7.42s\tremaining: 2.27s\n",
      "383:\tlearn: 0.0405713\ttotal: 7.44s\tremaining: 2.25s\n",
      "384:\tlearn: 0.0405708\ttotal: 7.46s\tremaining: 2.23s\n",
      "385:\tlearn: 0.0405704\ttotal: 7.48s\tremaining: 2.21s\n",
      "386:\tlearn: 0.0405697\ttotal: 7.5s\tremaining: 2.19s\n",
      "387:\tlearn: 0.0405692\ttotal: 7.51s\tremaining: 2.17s\n",
      "388:\tlearn: 0.0405687\ttotal: 7.53s\tremaining: 2.15s\n",
      "389:\tlearn: 0.0405682\ttotal: 7.55s\tremaining: 2.13s\n",
      "390:\tlearn: 0.0405679\ttotal: 7.57s\tremaining: 2.11s\n",
      "391:\tlearn: 0.0405648\ttotal: 7.59s\tremaining: 2.09s\n",
      "392:\tlearn: 0.0405634\ttotal: 7.61s\tremaining: 2.07s\n",
      "393:\tlearn: 0.0405627\ttotal: 7.62s\tremaining: 2.05s\n",
      "394:\tlearn: 0.0405596\ttotal: 7.64s\tremaining: 2.03s\n",
      "395:\tlearn: 0.0405580\ttotal: 7.66s\tremaining: 2.01s\n",
      "396:\tlearn: 0.0405576\ttotal: 7.67s\tremaining: 1.99s\n",
      "397:\tlearn: 0.0405565\ttotal: 7.69s\tremaining: 1.97s\n",
      "398:\tlearn: 0.0405560\ttotal: 7.71s\tremaining: 1.95s\n",
      "399:\tlearn: 0.0405556\ttotal: 7.72s\tremaining: 1.93s\n",
      "400:\tlearn: 0.0405553\ttotal: 7.74s\tremaining: 1.91s\n",
      "401:\tlearn: 0.0405529\ttotal: 7.76s\tremaining: 1.89s\n",
      "402:\tlearn: 0.0405522\ttotal: 7.78s\tremaining: 1.87s\n",
      "403:\tlearn: 0.0405518\ttotal: 7.79s\tremaining: 1.85s\n",
      "404:\tlearn: 0.0405490\ttotal: 7.81s\tremaining: 1.83s\n",
      "405:\tlearn: 0.0405475\ttotal: 7.83s\tremaining: 1.81s\n",
      "406:\tlearn: 0.0405470\ttotal: 7.84s\tremaining: 1.79s\n",
      "407:\tlearn: 0.0405467\ttotal: 7.86s\tremaining: 1.77s\n",
      "408:\tlearn: 0.0405441\ttotal: 7.88s\tremaining: 1.75s\n",
      "409:\tlearn: 0.0405433\ttotal: 7.9s\tremaining: 1.73s\n",
      "410:\tlearn: 0.0405430\ttotal: 7.91s\tremaining: 1.71s\n",
      "411:\tlearn: 0.0405419\ttotal: 7.93s\tremaining: 1.69s\n",
      "412:\tlearn: 0.0405414\ttotal: 7.95s\tremaining: 1.67s\n",
      "413:\tlearn: 0.0405411\ttotal: 7.96s\tremaining: 1.65s\n",
      "414:\tlearn: 0.0405407\ttotal: 7.98s\tremaining: 1.64s\n",
      "415:\tlearn: 0.0405399\ttotal: 8s\tremaining: 1.61s\n",
      "416:\tlearn: 0.0405392\ttotal: 8.02s\tremaining: 1.59s\n",
      "417:\tlearn: 0.0405371\ttotal: 8.03s\tremaining: 1.57s\n",
      "418:\tlearn: 0.0405359\ttotal: 8.05s\tremaining: 1.55s\n",
      "419:\tlearn: 0.0405354\ttotal: 8.06s\tremaining: 1.54s\n",
      "420:\tlearn: 0.0405342\ttotal: 8.08s\tremaining: 1.52s\n",
      "421:\tlearn: 0.0405337\ttotal: 8.1s\tremaining: 1.5s\n",
      "422:\tlearn: 0.0405316\ttotal: 8.12s\tremaining: 1.48s\n",
      "423:\tlearn: 0.0405287\ttotal: 8.13s\tremaining: 1.46s\n",
      "424:\tlearn: 0.0405263\ttotal: 8.15s\tremaining: 1.44s\n",
      "425:\tlearn: 0.0405256\ttotal: 8.17s\tremaining: 1.42s\n",
      "426:\tlearn: 0.0405254\ttotal: 8.19s\tremaining: 1.4s\n",
      "427:\tlearn: 0.0405234\ttotal: 8.2s\tremaining: 1.38s\n",
      "428:\tlearn: 0.0405223\ttotal: 8.22s\tremaining: 1.36s\n",
      "429:\tlearn: 0.0405218\ttotal: 8.24s\tremaining: 1.34s\n",
      "430:\tlearn: 0.0405202\ttotal: 8.26s\tremaining: 1.32s\n",
      "431:\tlearn: 0.0405199\ttotal: 8.28s\tremaining: 1.3s\n",
      "432:\tlearn: 0.0405190\ttotal: 8.3s\tremaining: 1.28s\n",
      "433:\tlearn: 0.0405182\ttotal: 8.32s\tremaining: 1.26s\n",
      "434:\tlearn: 0.0405176\ttotal: 8.34s\tremaining: 1.25s\n",
      "435:\tlearn: 0.0405162\ttotal: 8.35s\tremaining: 1.23s\n",
      "436:\tlearn: 0.0405151\ttotal: 8.37s\tremaining: 1.21s\n",
      "437:\tlearn: 0.0405139\ttotal: 8.39s\tremaining: 1.19s\n",
      "438:\tlearn: 0.0405132\ttotal: 8.4s\tremaining: 1.17s\n",
      "439:\tlearn: 0.0405127\ttotal: 8.42s\tremaining: 1.15s\n",
      "440:\tlearn: 0.0405105\ttotal: 8.44s\tremaining: 1.13s\n",
      "441:\tlearn: 0.0405098\ttotal: 8.45s\tremaining: 1.11s\n",
      "442:\tlearn: 0.0405080\ttotal: 8.47s\tremaining: 1.09s\n",
      "443:\tlearn: 0.0405069\ttotal: 8.49s\tremaining: 1.07s\n",
      "444:\tlearn: 0.0405064\ttotal: 8.5s\tremaining: 1.05s\n",
      "445:\tlearn: 0.0405018\ttotal: 8.52s\tremaining: 1.03s\n",
      "446:\tlearn: 0.0404995\ttotal: 8.54s\tremaining: 1.01s\n",
      "447:\tlearn: 0.0404989\ttotal: 8.56s\tremaining: 994ms\n",
      "448:\tlearn: 0.0404978\ttotal: 8.58s\tremaining: 974ms\n",
      "449:\tlearn: 0.0404973\ttotal: 8.6s\tremaining: 955ms\n",
      "450:\tlearn: 0.0404966\ttotal: 8.61s\tremaining: 936ms\n",
      "451:\tlearn: 0.0404955\ttotal: 8.63s\tremaining: 916ms\n",
      "452:\tlearn: 0.0404945\ttotal: 8.64s\tremaining: 897ms\n",
      "453:\tlearn: 0.0404928\ttotal: 8.66s\tremaining: 878ms\n",
      "454:\tlearn: 0.0404916\ttotal: 8.68s\tremaining: 858ms\n",
      "455:\tlearn: 0.0404906\ttotal: 8.7s\tremaining: 839ms\n",
      "456:\tlearn: 0.0404900\ttotal: 8.71s\tremaining: 820ms\n",
      "457:\tlearn: 0.0404892\ttotal: 8.73s\tremaining: 801ms\n",
      "458:\tlearn: 0.0404886\ttotal: 8.75s\tremaining: 782ms\n",
      "459:\tlearn: 0.0404880\ttotal: 8.77s\tremaining: 762ms\n",
      "460:\tlearn: 0.0404868\ttotal: 8.78s\tremaining: 743ms\n",
      "461:\tlearn: 0.0404863\ttotal: 8.8s\tremaining: 724ms\n",
      "462:\tlearn: 0.0404856\ttotal: 8.82s\tremaining: 705ms\n",
      "463:\tlearn: 0.0404849\ttotal: 8.84s\tremaining: 686ms\n",
      "464:\tlearn: 0.0404846\ttotal: 8.85s\tremaining: 666ms\n",
      "465:\tlearn: 0.0404840\ttotal: 8.87s\tremaining: 647ms\n",
      "466:\tlearn: 0.0404827\ttotal: 8.89s\tremaining: 628ms\n",
      "467:\tlearn: 0.0404814\ttotal: 8.91s\tremaining: 609ms\n",
      "468:\tlearn: 0.0404802\ttotal: 8.92s\tremaining: 590ms\n",
      "469:\tlearn: 0.0404795\ttotal: 8.95s\tremaining: 571ms\n",
      "470:\tlearn: 0.0404787\ttotal: 8.97s\tremaining: 552ms\n",
      "471:\tlearn: 0.0404773\ttotal: 8.99s\tremaining: 533ms\n",
      "472:\tlearn: 0.0404769\ttotal: 9.01s\tremaining: 514ms\n",
      "473:\tlearn: 0.0404750\ttotal: 9.03s\tremaining: 495ms\n",
      "474:\tlearn: 0.0404728\ttotal: 9.05s\tremaining: 476ms\n",
      "475:\tlearn: 0.0404722\ttotal: 9.07s\tremaining: 457ms\n",
      "476:\tlearn: 0.0404713\ttotal: 9.09s\tremaining: 438ms\n",
      "477:\tlearn: 0.0404708\ttotal: 9.11s\tremaining: 419ms\n",
      "478:\tlearn: 0.0404705\ttotal: 9.14s\tremaining: 401ms\n",
      "479:\tlearn: 0.0404657\ttotal: 9.15s\tremaining: 381ms\n",
      "480:\tlearn: 0.0404606\ttotal: 9.18s\tremaining: 363ms\n",
      "481:\tlearn: 0.0404596\ttotal: 9.2s\tremaining: 344ms\n",
      "482:\tlearn: 0.0404577\ttotal: 9.22s\tremaining: 325ms\n",
      "483:\tlearn: 0.0404567\ttotal: 9.24s\tremaining: 306ms\n",
      "484:\tlearn: 0.0404564\ttotal: 9.26s\tremaining: 287ms\n",
      "485:\tlearn: 0.0404552\ttotal: 9.28s\tremaining: 267ms\n",
      "486:\tlearn: 0.0404543\ttotal: 9.31s\tremaining: 248ms\n",
      "487:\tlearn: 0.0404541\ttotal: 9.33s\tremaining: 229ms\n",
      "488:\tlearn: 0.0404536\ttotal: 9.35s\tremaining: 210ms\n",
      "489:\tlearn: 0.0404532\ttotal: 9.37s\tremaining: 191ms\n",
      "490:\tlearn: 0.0404530\ttotal: 9.4s\tremaining: 172ms\n"
     ]
    },
    {
     "name": "stdout",
     "output_type": "stream",
     "text": [
      "491:\tlearn: 0.0404514\ttotal: 9.42s\tremaining: 153ms\n",
      "492:\tlearn: 0.0404502\ttotal: 9.44s\tremaining: 134ms\n",
      "493:\tlearn: 0.0404493\ttotal: 9.46s\tremaining: 115ms\n",
      "494:\tlearn: 0.0404440\ttotal: 9.48s\tremaining: 95.8ms\n",
      "495:\tlearn: 0.0404417\ttotal: 9.5s\tremaining: 76.6ms\n",
      "496:\tlearn: 0.0404403\ttotal: 9.52s\tremaining: 57.5ms\n",
      "497:\tlearn: 0.0404376\ttotal: 9.54s\tremaining: 38.3ms\n",
      "498:\tlearn: 0.0404355\ttotal: 9.55s\tremaining: 19.1ms\n",
      "499:\tlearn: 0.0404347\ttotal: 9.57s\tremaining: 0us\n",
      "class =  [0 0 0 ... 0 0 0]\n",
      "proba =  [[0.99872131 0.00127869]\n",
      " [0.99866368 0.00133632]\n",
      " [0.99829308 0.00170692]\n",
      " ...\n",
      " [0.99810294 0.00189706]\n",
      " [0.99569574 0.00430426]\n",
      " [0.9987115  0.0012885 ]]\n"
     ]
    }
   ],
   "source": [
    "model = CatBoostClassifier(iterations=500,\n",
    "                           depth=1,\n",
    "                           learning_rate=1,\n",
    "                           loss_function='Logloss',\n",
    "                           verbose=True, )\n",
    "                          #use_best_model = True)\n",
    "# train the model\n",
    "model.fit(X_train, y_train, plot = False)\n",
    "# make the prediction using the resulting model\n",
    "preds_class = model.predict(X_test)\n",
    "preds_proba = model.predict_proba(X_test)\n",
    "print(\"class = \", preds_class)\n",
    "print(\"proba = \", preds_proba)"
   ]
  },
  {
   "cell_type": "code",
   "execution_count": 64,
   "metadata": {},
   "outputs": [
    {
     "data": {
      "text/plain": [
       "mom1                  0.914921\n",
       "mom2                  1.712862\n",
       "mom3                  1.085747\n",
       "ask_flow              3.254485\n",
       "bid_flow              6.087649\n",
       "std                   6.937946\n",
       "logVBID0             21.945003\n",
       "logVASK0             23.811135\n",
       "logBID0/BID0_PREV    17.772296\n",
       "logASK0/ASK0_PREV    16.477955\n",
       "dtype: float64"
      ]
     },
     "execution_count": 64,
     "metadata": {},
     "output_type": "execute_result"
    }
   ],
   "source": [
    "FI = pd.Series(model.feature_importances_)\n",
    "FI.index = list(X_train.columns)\n",
    "FI"
   ]
  },
  {
   "cell_type": "code",
   "execution_count": 65,
   "metadata": {},
   "outputs": [
    {
     "name": "stdout",
     "output_type": "stream",
     "text": [
      "[[    2 36919]\n",
      " [    0   397]]\n",
      "[[21672 15249]\n",
      " [   23   374]]\n",
      "[[28248  8673]\n",
      " [   52   345]]\n",
      "[[31500  5421]\n",
      " [   75   322]]\n",
      "[[34512  2409]\n",
      " [  151   246]]\n",
      "[[35384  1537]\n",
      " [  187   210]]\n",
      "[[36424   497]\n",
      " [  287   110]]\n",
      "[[36585   336]\n",
      " [  300    97]]\n",
      "[[36754   167]\n",
      " [  327    70]]\n",
      "#######\n",
      "score: 0.9004124948653047\n"
     ]
    }
   ],
   "source": [
    "y_predicted = preds_proba[:, 1]\n",
    "t = []\n",
    "score = []\n",
    "for M in [0.0001, 0.01/4, 0.01/2, 0.01, 0.03, 0.05, 0.1, 0.13, 0.2]:\n",
    "    t.append(M)\n",
    "    print(confusion_matrix(y_test, y_predicted  > M)) #threshold to compare CF\n",
    "    \n",
    "print(\"#######\")\n",
    "print('score:', roc_auc_score(y_test, y_predicted))"
   ]
  },
  {
   "source": [
    "Результат: roc_auc_score  = 0.9004124948653047"
   ],
   "cell_type": "markdown",
   "metadata": {}
  },
  {
   "cell_type": "code",
   "execution_count": 772,
   "metadata": {},
   "outputs": [],
   "source": [
    "def add_feature(feature, name):\n",
    "    test_data[name] = feature\n",
    "    print(test_data.columns)\n",
    "    \n",
    "def del_feature(name):\n",
    "    del test_data[name]"
   ]
  },
  {
   "cell_type": "code",
   "execution_count": 773,
   "metadata": {},
   "outputs": [],
   "source": [
    "data = test_data"
   ]
  },
  {
   "cell_type": "code",
   "execution_count": 774,
   "metadata": {},
   "outputs": [
    {
     "name": "stdout",
     "output_type": "stream",
     "text": [
      "Index(['VASK0', 'VASK1', 'VASK2', 'VASK3', 'VASK4', 'VBID0', 'VBID1', 'VBID2',\n",
      "       'VBID3', 'VBID4', 'VASK0_PREV', 'VASK1_PREV', 'VASK2_PREV',\n",
      "       'VASK3_PREV', 'VASK4_PREV', 'VBID0_PREV', 'VBID1_PREV', 'VBID2_PREV',\n",
      "       'VBID3_PREV', 'VBID4_PREV', 'logVASK0', 'logVBID0', 'logASK0/ASK0_PREV',\n",
      "       'logBID0/BID0_PREV', 'mom1', 'mom2', 'mom3', 'std', 'ask_flow',\n",
      "       'bid_flow'],\n",
      "      dtype='object')\n",
      "Index(['VASK0', 'VASK1', 'VASK2', 'VASK3', 'VASK4', 'VBID0', 'VBID1', 'VBID2',\n",
      "       'VBID3', 'VBID4', 'VASK0_PREV', 'VASK1_PREV', 'VASK2_PREV',\n",
      "       'VASK3_PREV', 'VASK4_PREV', 'VBID0_PREV', 'VBID1_PREV', 'VBID2_PREV',\n",
      "       'VBID3_PREV', 'VBID4_PREV', 'logVASK0', 'logVBID0', 'logASK0/ASK0_PREV',\n",
      "       'logBID0/BID0_PREV', 'mom1', 'mom2', 'mom3', 'std', 'ask_flow',\n",
      "       'bid_flow'],\n",
      "      dtype='object')\n",
      "Index(['VASK0', 'VASK1', 'VASK2', 'VASK3', 'VASK4', 'VBID0', 'VBID1', 'VBID2',\n",
      "       'VBID3', 'VBID4', 'VASK0_PREV', 'VASK1_PREV', 'VASK2_PREV',\n",
      "       'VASK3_PREV', 'VASK4_PREV', 'VBID0_PREV', 'VBID1_PREV', 'VBID2_PREV',\n",
      "       'VBID3_PREV', 'VBID4_PREV', 'logVASK0', 'logVBID0', 'logASK0/ASK0_PREV',\n",
      "       'logBID0/BID0_PREV', 'mom1', 'mom2', 'mom3', 'std', 'ask_flow',\n",
      "       'bid_flow'],\n",
      "      dtype='object')\n",
      "Index(['VASK0', 'VASK1', 'VASK2', 'VASK3', 'VASK4', 'VBID0', 'VBID1', 'VBID2',\n",
      "       'VBID3', 'VBID4', 'VASK0_PREV', 'VASK1_PREV', 'VASK2_PREV',\n",
      "       'VASK3_PREV', 'VASK4_PREV', 'VBID0_PREV', 'VBID1_PREV', 'VBID2_PREV',\n",
      "       'VBID3_PREV', 'VBID4_PREV', 'logVASK0', 'logVBID0', 'logASK0/ASK0_PREV',\n",
      "       'logBID0/BID0_PREV', 'mom1', 'mom2', 'mom3', 'std', 'ask_flow',\n",
      "       'bid_flow'],\n",
      "      dtype='object')\n",
      "Index(['VASK0', 'VASK1', 'VASK2', 'VASK3', 'VASK4', 'VBID0', 'VBID1', 'VBID2',\n",
      "       'VBID3', 'VBID4', 'VASK0_PREV', 'VASK1_PREV', 'VASK2_PREV',\n",
      "       'VASK3_PREV', 'VASK4_PREV', 'VBID0_PREV', 'VBID1_PREV', 'VBID2_PREV',\n",
      "       'VBID3_PREV', 'VBID4_PREV', 'logVASK0', 'logVBID0', 'logASK0/ASK0_PREV',\n",
      "       'logBID0/BID0_PREV', 'mom1', 'mom2', 'mom3', 'std', 'ask_flow',\n",
      "       'bid_flow'],\n",
      "      dtype='object')\n",
      "Index(['VASK0', 'VASK1', 'VASK2', 'VASK3', 'VASK4', 'VBID0', 'VBID1', 'VBID2',\n",
      "       'VBID3', 'VBID4', 'VASK0_PREV', 'VASK1_PREV', 'VASK2_PREV',\n",
      "       'VASK3_PREV', 'VASK4_PREV', 'VBID0_PREV', 'VBID1_PREV', 'VBID2_PREV',\n",
      "       'VBID3_PREV', 'VBID4_PREV', 'logVASK0', 'logVBID0', 'logASK0/ASK0_PREV',\n",
      "       'logBID0/BID0_PREV', 'mom1', 'mom2', 'mom3', 'std', 'ask_flow',\n",
      "       'bid_flow'],\n",
      "      dtype='object')\n",
      "Index(['VASK0', 'VASK1', 'VASK2', 'VASK3', 'VASK4', 'VBID0', 'VBID1', 'VBID2',\n",
      "       'VBID3', 'VBID4', 'VASK0_PREV', 'VASK1_PREV', 'VASK2_PREV',\n",
      "       'VASK3_PREV', 'VASK4_PREV', 'VBID0_PREV', 'VBID1_PREV', 'VBID2_PREV',\n",
      "       'VBID3_PREV', 'VBID4_PREV', 'logVASK0', 'logVBID0', 'logASK0/ASK0_PREV',\n",
      "       'logBID0/BID0_PREV', 'mom1', 'mom2', 'mom3', 'std', 'ask_flow',\n",
      "       'bid_flow'],\n",
      "      dtype='object')\n",
      "Index(['VASK0', 'VASK1', 'VASK2', 'VASK3', 'VASK4', 'VBID0', 'VBID1', 'VBID2',\n",
      "       'VBID3', 'VBID4', 'VASK0_PREV', 'VASK1_PREV', 'VASK2_PREV',\n",
      "       'VASK3_PREV', 'VASK4_PREV', 'VBID0_PREV', 'VBID1_PREV', 'VBID2_PREV',\n",
      "       'VBID3_PREV', 'VBID4_PREV', 'logVASK0', 'logVBID0', 'logASK0/ASK0_PREV',\n",
      "       'logBID0/BID0_PREV', 'mom1', 'mom2', 'mom3', 'std', 'ask_flow',\n",
      "       'bid_flow'],\n",
      "      dtype='object')\n",
      "Index(['VASK0', 'VASK1', 'VASK2', 'VASK3', 'VASK4', 'VBID0', 'VBID1', 'VBID2',\n",
      "       'VBID3', 'VBID4', 'VASK0_PREV', 'VASK1_PREV', 'VASK2_PREV',\n",
      "       'VASK3_PREV', 'VASK4_PREV', 'VBID0_PREV', 'VBID1_PREV', 'VBID2_PREV',\n",
      "       'VBID3_PREV', 'VBID4_PREV', 'logVASK0', 'logVBID0', 'logASK0/ASK0_PREV',\n",
      "       'logBID0/BID0_PREV', 'mom1', 'mom2', 'mom3', 'std', 'ask_flow',\n",
      "       'bid_flow'],\n",
      "      dtype='object')\n",
      "Index(['VASK0', 'VASK1', 'VASK2', 'VASK3', 'VASK4', 'VBID0', 'VBID1', 'VBID2',\n",
      "       'VBID3', 'VBID4', 'VASK0_PREV', 'VASK1_PREV', 'VASK2_PREV',\n",
      "       'VASK3_PREV', 'VASK4_PREV', 'VBID0_PREV', 'VBID1_PREV', 'VBID2_PREV',\n",
      "       'VBID3_PREV', 'VBID4_PREV', 'logVASK0', 'logVBID0', 'logASK0/ASK0_PREV',\n",
      "       'logBID0/BID0_PREV', 'mom1', 'mom2', 'mom3', 'std', 'ask_flow',\n",
      "       'bid_flow'],\n",
      "      dtype='object')\n"
     ]
    }
   ],
   "source": [
    "add_feature(np.log(data['VASK0']), 'logVASK0')\n",
    "add_feature(np.log(data['VBID0']), 'logVBID0')\n",
    "add_feature(np.log(data['VASK0']/data['VASK0_PREV']), 'logASK0/ASK0_PREV')\n",
    "add_feature(np.log(data['VBID0']/data['VBID0_PREV']), 'logBID0/BID0_PREV')\n",
    "add_feature(np.log(data['VASK0']/data['VASK0_PREV']) * np.log(data['VASK1']/data['VASK0'])\n",
    "            -\n",
    "            np.log(data['VBID0']/data['VBID0_PREV']) * np.log(data['VBID1']/data['VBID0'])\n",
    "            , 'mom1')\n",
    "add_feature(np.log(data['VASK0']/data['VASK0_PREV']) * np.log(data['VASK1']/data['VASK0'])*\n",
    "            np.log(data['VASK2']/data['VASK1'])*np.log(data['VASK3']/data['VASK2'])\n",
    "            -\n",
    "            np.log(data['VBID0']/data['VBID0_PREV']) * np.log(data['VBID1']/data['VBID0'])*\n",
    "            np.log(data['VBID2']/data['VBID1'])*np.log(data['VBID3']/data['VBID2'])\n",
    "            , 'mom2')\n",
    "add_feature(np.log(data['VASK0']/data['VASK0_PREV']) * np.log(data['VASK1']/data['VASK0'])*\n",
    "            np.log(data['VASK2']/data['VASK1'])*np.log(data['VASK3']/data['VASK2'])*\n",
    "            np.log(data['VASK4']/data['VASK3'])\n",
    "            \n",
    "            -\n",
    "            \n",
    "            np.log(data['VBID0']/data['VBID0_PREV']) * np.log(data['VBID1']/data['VBID0'])*\n",
    "            np.log(data['VBID2']/data['VBID1'])*np.log(data['VBID3']/data['VBID2'])*np.log(data['VBID4']/data['VBID3'])\n",
    "            , 'mom3')\n",
    "\n",
    "add_feature(np.log(data['VASK0']/data['VASK0_PREV']).rolling(2).std()\n",
    "            - np.log(data['VBID0']/data['VBID0_PREV']).rolling(2).std(), 'std')\n",
    "\n",
    "fl0 = np.log(data['VASK0']) - np.log(data[['VASK1', 'VASK2', 'VASK3', 'VASK4']].sum(axis = 1))\n",
    "\n",
    "flbtw = (np.log(data[['VASK1', 'VASK2', 'VASK3', 'VASK4']]) - np.log((data[['VASK1_PREV', 'VASK2_PREV', 'VASK3_PREV', 'VASK4_PREV']]).shift(1))).fillna(0).sum(axis = 1)\n",
    "vol= np.log(data[['VASK1', 'VASK2', 'VASK3', 'VASK4']].sum(axis = 1))\n",
    "add_feature(vol + flbtw - fl0, 'ask_flow')\n",
    "\n",
    "fl0 = np.log(data['VBID0']) - np.log(data[['VBID1', 'VBID3', 'VBID4']].sum(axis = 1))\n",
    "flbt = (np.log(data[['VBID1', 'VBID2', 'VBID3', 'VBID4']]) - np.log((data[['VBID1_PREV', 'VBID2_PREV', 'VBID3_PREV', 'VBID4_PREV']]).shift(1))).fillna(0).sum(axis = 1)\n",
    "vol= np.log(data[['VBID1', 'VBID2', 'VBID3', 'VBID4']].sum(axis = 1))\n",
    "add_feature(vol + flbt - fl0, 'bid_flow')\n",
    "#(data[['VBID1', 'VBID3', 'VBID4']] - np.log(data[['VBID1_PREV', 'VBID3_PREV', 'VBID4_PREV']].shift(1)).fillna(0).sum(axis = 1)"
   ]
  },
  {
   "cell_type": "code",
   "execution_count": 775,
   "metadata": {},
   "outputs": [],
   "source": [
    "data = data.fillna(0)"
   ]
  },
  {
   "cell_type": "code",
   "execution_count": 776,
   "metadata": {},
   "outputs": [],
   "source": [
    "x_test = data"
   ]
  },
  {
   "cell_type": "code",
   "execution_count": 777,
   "metadata": {},
   "outputs": [
    {
     "data": {
      "text/plain": [
       "0        5.231109\n",
       "1        3.610918\n",
       "2        5.273000\n",
       "3        1.609438\n",
       "4        4.762174\n",
       "           ...   \n",
       "93291    4.290459\n",
       "93292    3.496508\n",
       "93293    4.927254\n",
       "93294    4.976734\n",
       "93295    4.430817\n",
       "Name: logVASK0, Length: 93296, dtype: float64"
      ]
     },
     "execution_count": 777,
     "metadata": {},
     "output_type": "execute_result"
    }
   ],
   "source": [
    "data['logVASK0']"
   ]
  },
  {
   "cell_type": "code",
   "execution_count": 778,
   "metadata": {},
   "outputs": [],
   "source": [
    "x_test = x_test[[\n",
    "    'mom1', 'mom2', 'mom3',\n",
    "       'ask_flow', 'bid_flow', 'std', 'logVBID0', 'logVASK0',\n",
    "       'logBID0/BID0_PREV', 'logASK0/ASK0_PREV'\n",
    "]]"
   ]
  },
  {
   "cell_type": "code",
   "execution_count": 779,
   "metadata": {},
   "outputs": [
    {
     "name": "stdout",
     "output_type": "stream",
     "text": [
      "class =  [0 0 0 ... 0 0 0]\n",
      "proba =  [[9.99445165e-01 5.54835376e-04]\n",
      " [9.96609878e-01 3.39012166e-03]\n",
      " [9.97583874e-01 2.41612633e-03]\n",
      " ...\n",
      " [9.99084460e-01 9.15539951e-04]\n",
      " [9.98322051e-01 1.67794881e-03]\n",
      " [9.98228695e-01 1.77130473e-03]]\n"
     ]
    }
   ],
   "source": [
    "preds_class = model.predict(x_test)\n",
    "preds_proba = model.predict_proba(x_test)\n",
    "print(\"class = \", preds_class)\n",
    "print(\"proba = \", preds_proba)"
   ]
  },
  {
   "cell_type": "code",
   "execution_count": 780,
   "metadata": {},
   "outputs": [],
   "source": [
    "pd.Series(preds_proba[:, 1]).to_csv('probs.csv')"
   ]
  }
 ],
 "metadata": {
  "kernelspec": {
   "display_name": "Python 3",
   "language": "python",
   "name": "python3"
  },
  "language_info": {
   "codemirror_mode": {
    "name": "ipython",
    "version": 3
   },
   "file_extension": ".py",
   "mimetype": "text/x-python",
   "name": "python",
   "nbconvert_exporter": "python",
   "pygments_lexer": "ipython3",
   "version": "3.8.3"
  }
 },
 "nbformat": 4,
 "nbformat_minor": 4
}